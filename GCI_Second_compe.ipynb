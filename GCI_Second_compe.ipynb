{
  "cells": [
    {
      "cell_type": "markdown",
      "metadata": {
        "id": "view-in-github",
        "colab_type": "text"
      },
      "source": [
        "<a href=\"https://colab.research.google.com/github/DeL-TaiseiOzaki/DeL-TaiseiOzaki/blob/main/GCI_Second_compe.ipynb\" target=\"_parent\"><img src=\"https://colab.research.google.com/assets/colab-badge.svg\" alt=\"Open In Colab\"/></a>"
      ]
    },
    {
      "cell_type": "markdown",
      "metadata": {
        "id": "0fQm9v7oCnl8"
      },
      "source": [
        "# Home Credit Default Risk\n",
        "このnotebookでは、予測結果を作成するまでの流れと基本的な手法についての紹介を行います。\n",
        "\n",
        "\n",
        "まずは、今回のタスクについて確認しましょう（詳細はREADME.ipynbをご覧ください）。\n",
        "- **目的**： 顧客データから債務不履行になる確率を予測する。\n",
        "- **評価指標**： AUC（Area Under the Curve）"
      ]
    },
    {
      "cell_type": "markdown",
      "metadata": {
        "id": "a5KcDAE8CnmB"
      },
      "source": [
        "##ライブラリ・データの読み込み"
      ]
    },
    {
      "cell_type": "code",
      "execution_count": 6,
      "metadata": {
        "id": "QShif6ZLCnmC"
      },
      "outputs": [],
      "source": [
        "# ライブラリの読み込み\n",
        "import numpy as np\n",
        "import pandas as pd\n",
        "import matplotlib.pyplot as plt\n",
        "import seaborn as sns\n",
        "\n",
        "import warnings\n",
        "warnings.filterwarnings('ignore')"
      ]
    },
    {
      "cell_type": "code",
      "execution_count": 7,
      "metadata": {
        "id": "7S86UJm3PcOe",
        "colab": {
          "base_uri": "https://localhost:8080/"
        },
        "outputId": "8d48f84c-7a63-4f98-c20b-989bccc007ef"
      },
      "outputs": [
        {
          "output_type": "stream",
          "name": "stdout",
          "text": [
            "Mounted at /content/drive\n"
          ]
        }
      ],
      "source": [
        "# Google Colaboratoryで作業する場合はこちらも実行してください。\n",
        "from google.colab import drive\n",
        "drive.mount('/content/drive')\n",
        "INPUT_DIR = \"/content/drive/MyDrive/A_4_Data science/GCI2023/第2回コンペティション/input\""
      ]
    },
    {
      "cell_type": "code",
      "execution_count": 8,
      "metadata": {
        "id": "FXM13YCeCnmE"
      },
      "outputs": [],
      "source": [
        "# データの読み込み\n",
        "# INPUT_DIRにtrain.csvなどのデータを置いているディレクトリを指定してください。\n",
        "\n",
        "train = pd.read_csv(INPUT_DIR + \"/train.csv\")\n",
        "test = pd.read_csv(INPUT_DIR + \"/test.csv\")\n",
        "sample_sub = pd.read_csv(INPUT_DIR + \"/sample_submission.csv\")"
      ]
    },
    {
      "cell_type": "markdown",
      "source": [
        "##参考プログラム"
      ],
      "metadata": {
        "id": "BXQVjhiTbdFK"
      }
    },
    {
      "cell_type": "code",
      "source": [
        "import numpy as np\n",
        "import pandas as pd\n",
        "from sklearn.model_selection import StratifiedKFold\n",
        "from sklearn.metrics import roc_auc_score\n",
        "import lightgbm as lgbm\n",
        "\n",
        "df_all = pd.concat([train, test], axis=0)\n",
        "\n",
        "def one_hot_encoding(df):\n",
        "    return_df = pd.get_dummies(df, drop_first=True)\n",
        "    return return_df\n",
        "\n",
        "def to_add_feature(df):\n",
        "    df['EXT_123_mean'] = (df['EXT_SOURCE_1'] + df['EXT_SOURCE_2'] + df['EXT_SOURCE_3']) / 3\n",
        "    df['EXT_23_mean'] = (df['EXT_SOURCE_2'] + df['EXT_SOURCE_3']) / 2\n",
        "    df['EXT_12_mean'] = (df['EXT_SOURCE_1'] + df['EXT_SOURCE_2']) / 2\n",
        "    df['EXT_13_mean'] = (df['EXT_SOURCE_1'] + df['EXT_SOURCE_3']) / 2\n",
        "    df['EXT_23_sabun'] = abs(df['EXT_SOURCE_2'] - df['EXT_SOURCE_3'])\n",
        "    df['EXT_12_sabun'] = abs(df['EXT_SOURCE_1'] - df['EXT_SOURCE_2'])\n",
        "    df['EXT_13_sabun'] = abs(df['EXT_SOURCE_1'] - df['EXT_SOURCE_3'])\n",
        "    df['CREDIT_ANNUITY'] = df['AMT_ANNUITY'] / df['AMT_CREDIT']\n",
        "    df['CREDIT_GOODS_PRICE'] = df['AMT_CREDIT'] / df['AMT_GOODS_PRICE']\n",
        "    df['INCOME_TOTAL_ANNUITY'] = df['AMT_ANNUITY'] / df['AMT_INCOME_TOTAL']\n",
        "    df['INCOME_TOTAL_CREDIT'] = df['AMT_INCOME_TOTAL'] / df['AMT_CREDIT']\n",
        "    df['DAYS_BIRTH_365_OWN_CAR_AGE'] = (df['DAYS_BIRTH'] / 365) - df['OWN_CAR_AGE']\n",
        "    df['DAYS_EMPLOYED'].replace(365243, np.nan, inplace=True)\n",
        "    return df\n",
        "\n",
        "def to_drop(df):\n",
        "    drop_list = ['FLAG_MOBIL', 'FLAG_CONT_MOBILE', 'REG_REGION_NOT_LIVE_REGION', 'LIVE_REGION_NOT_WORK_REGION']\n",
        "    droped_df = df.drop(columns=drop_list)\n",
        "    return droped_df\n",
        "\n",
        "def fit_lgbm(X, y, cv, params: dict=None, verbose=100):\n",
        "\n",
        "    oof_preds = np.zeros(X.shape[0])\n",
        "\n",
        "    if params is None:\n",
        "        params = {}\n",
        "\n",
        "    models = []\n",
        "\n",
        "    for i, (idx_train, idx_valid) in enumerate(cv):\n",
        "        x_train, y_train = X[idx_train], y[idx_train]\n",
        "        x_valid, y_valid = X[idx_valid], y[idx_valid]\n",
        "\n",
        "        clf = lgbm.LGBMClassifier(**params, random_state=71, n_estimators=10000)\n",
        "        clf.fit(x_train, y_train,\n",
        "                eval_set=[(x_valid, y_valid)],\n",
        "                early_stopping_rounds=100,\n",
        "                eval_metric='auc',\n",
        "                verbose=verbose)\n",
        "\n",
        "        models.append(clf)\n",
        "        oof_preds[idx_valid] = clf.predict_proba(x_valid, num_iteration=clf.best_iteration_)[:, 1]\n",
        "        print('Fold %2d AUC : %.6f' % (i + 1, roc_auc_score(y_valid, oof_preds[idx_valid])))\n",
        "\n",
        "    score = roc_auc_score(y, oof_preds)\n",
        "    print('Full AUC score %.6f' % score)\n",
        "    return oof_preds, models\n",
        "\n",
        "df_encoded = one_hot_encoding(df_all)\n",
        "added_features_df = to_add_feature(df_encoded)\n",
        "all_features_df = to_drop(added_features_df)\n",
        "\n",
        "train_ref = all_features_df[all_features_df.loc[:, 'SK_ID_CURR'] < 171202]\n",
        "test_ref = all_features_df[all_features_df.loc[:, 'SK_ID_CURR'] > 171201]\n",
        "train_x_ref = train_ref.drop(columns=['TARGET', 'SK_ID_CURR'])\n",
        "train_y_ref = train['TARGET']\n",
        "test_x_ref = test_ref.drop(columns=['TARGET','SK_ID_CURR'])\n",
        "X_ref = train_x_ref.values\n",
        "y_ref = train_y_ref.values\n",
        "\n",
        "fold = StratifiedKFold(n_splits=8, shuffle=True, random_state=69)\n",
        "cv = list(fold.split(X_ref, y_ref))\n",
        "lgbm_best_param = {'reg_lambda': 1.1564659040946654,\n",
        "                   'reg_alpha': 9.90877329623665,\n",
        "                   'colsample_bytree': 0.5034991685866442,\n",
        "                   'subsample': 0.6055998601661783,\n",
        "                   'max_depth': 3,\n",
        "                   'min_child_weight': 39.72586351155486,\n",
        "                   'learning_rate': 0.08532489659779158}\n",
        "oof, models = fit_lgbm(X_ref, y_ref, cv=cv, params=lgbm_best_param)\n",
        "pred = np.array([model.predict_proba(test_x_ref.values)[:, 1] for model in models])\n",
        "pred_ref = np.mean(pred, axis=0)\n",
        "print(pred_ref)"
      ],
      "metadata": {
        "colab": {
          "base_uri": "https://localhost:8080/",
          "height": 393
        },
        "id": "RYX961Q4bhc7",
        "outputId": "edf7562c-1c13-4cff-85e4-2247429f9ba1"
      },
      "execution_count": null,
      "outputs": [
        {
          "output_type": "error",
          "ename": "KeyboardInterrupt",
          "evalue": "ignored",
          "traceback": [
            "\u001b[0;31m---------------------------------------------------------------------------\u001b[0m",
            "\u001b[0;31mKeyboardInterrupt\u001b[0m                         Traceback (most recent call last)",
            "\u001b[0;32m<ipython-input-50-97b56f5dec15>\u001b[0m in \u001b[0;36m<cell line: 68>\u001b[0;34m()\u001b[0m\n\u001b[1;32m     66\u001b[0m \u001b[0mtrain_ref\u001b[0m \u001b[0;34m=\u001b[0m \u001b[0mall_features_df\u001b[0m\u001b[0;34m[\u001b[0m\u001b[0mall_features_df\u001b[0m\u001b[0;34m.\u001b[0m\u001b[0mloc\u001b[0m\u001b[0;34m[\u001b[0m\u001b[0;34m:\u001b[0m\u001b[0;34m,\u001b[0m \u001b[0;34m'SK_ID_CURR'\u001b[0m\u001b[0;34m]\u001b[0m \u001b[0;34m<\u001b[0m \u001b[0;36m171202\u001b[0m\u001b[0;34m]\u001b[0m\u001b[0;34m\u001b[0m\u001b[0;34m\u001b[0m\u001b[0m\n\u001b[1;32m     67\u001b[0m \u001b[0mtest_ref\u001b[0m \u001b[0;34m=\u001b[0m \u001b[0mall_features_df\u001b[0m\u001b[0;34m[\u001b[0m\u001b[0mall_features_df\u001b[0m\u001b[0;34m.\u001b[0m\u001b[0mloc\u001b[0m\u001b[0;34m[\u001b[0m\u001b[0;34m:\u001b[0m\u001b[0;34m,\u001b[0m \u001b[0;34m'SK_ID_CURR'\u001b[0m\u001b[0;34m]\u001b[0m \u001b[0;34m>\u001b[0m \u001b[0;36m171201\u001b[0m\u001b[0;34m]\u001b[0m\u001b[0;34m\u001b[0m\u001b[0;34m\u001b[0m\u001b[0m\n\u001b[0;32m---> 68\u001b[0;31m \u001b[0mtrain_x_ref\u001b[0m \u001b[0;34m=\u001b[0m \u001b[0mtrain_ref\u001b[0m\u001b[0;34m.\u001b[0m\u001b[0mdrop\u001b[0m\u001b[0;34m(\u001b[0m\u001b[0mcolumns\u001b[0m\u001b[0;34m=\u001b[0m\u001b[0;34m[\u001b[0m\u001b[0;34m'TARGET'\u001b[0m\u001b[0;34m,\u001b[0m \u001b[0;34m'SK_ID_CURR'\u001b[0m\u001b[0;34m]\u001b[0m\u001b[0;34m)\u001b[0m\u001b[0;34m\u001b[0m\u001b[0;34m\u001b[0m\u001b[0m\n\u001b[0m\u001b[1;32m     69\u001b[0m \u001b[0mtrain_y_ref\u001b[0m \u001b[0;34m=\u001b[0m \u001b[0mtrain\u001b[0m\u001b[0;34m[\u001b[0m\u001b[0;34m'TARGET'\u001b[0m\u001b[0;34m]\u001b[0m\u001b[0;34m\u001b[0m\u001b[0;34m\u001b[0m\u001b[0m\n\u001b[1;32m     70\u001b[0m \u001b[0mtest_x_ref\u001b[0m \u001b[0;34m=\u001b[0m \u001b[0mtest_ref\u001b[0m\u001b[0;34m.\u001b[0m\u001b[0mdrop\u001b[0m\u001b[0;34m(\u001b[0m\u001b[0mcolumns\u001b[0m\u001b[0;34m=\u001b[0m\u001b[0;34m[\u001b[0m\u001b[0;34m'TARGET'\u001b[0m\u001b[0;34m,\u001b[0m\u001b[0;34m'SK_ID_CURR'\u001b[0m\u001b[0;34m]\u001b[0m\u001b[0;34m)\u001b[0m\u001b[0;34m\u001b[0m\u001b[0;34m\u001b[0m\u001b[0m\n",
            "\u001b[0;32m/usr/local/lib/python3.10/dist-packages/pandas/util/_decorators.py\u001b[0m in \u001b[0;36mwrapper\u001b[0;34m(*args, **kwargs)\u001b[0m\n\u001b[1;32m    329\u001b[0m                     \u001b[0mstacklevel\u001b[0m\u001b[0;34m=\u001b[0m\u001b[0mfind_stack_level\u001b[0m\u001b[0;34m(\u001b[0m\u001b[0;34m)\u001b[0m\u001b[0;34m,\u001b[0m\u001b[0;34m\u001b[0m\u001b[0;34m\u001b[0m\u001b[0m\n\u001b[1;32m    330\u001b[0m                 )\n\u001b[0;32m--> 331\u001b[0;31m             \u001b[0;32mreturn\u001b[0m \u001b[0mfunc\u001b[0m\u001b[0;34m(\u001b[0m\u001b[0;34m*\u001b[0m\u001b[0margs\u001b[0m\u001b[0;34m,\u001b[0m \u001b[0;34m**\u001b[0m\u001b[0mkwargs\u001b[0m\u001b[0;34m)\u001b[0m\u001b[0;34m\u001b[0m\u001b[0;34m\u001b[0m\u001b[0m\n\u001b[0m\u001b[1;32m    332\u001b[0m \u001b[0;34m\u001b[0m\u001b[0m\n\u001b[1;32m    333\u001b[0m         \u001b[0;31m# error: \"Callable[[VarArg(Any), KwArg(Any)], Any]\" has no\u001b[0m\u001b[0;34m\u001b[0m\u001b[0;34m\u001b[0m\u001b[0m\n",
            "\u001b[0;32m/usr/local/lib/python3.10/dist-packages/pandas/core/frame.py\u001b[0m in \u001b[0;36mdrop\u001b[0;34m(self, labels, axis, index, columns, level, inplace, errors)\u001b[0m\n\u001b[1;32m   5397\u001b[0m                 \u001b[0mweight\u001b[0m  \u001b[0;36m1.0\u001b[0m     \u001b[0;36m0.8\u001b[0m\u001b[0;34m\u001b[0m\u001b[0;34m\u001b[0m\u001b[0m\n\u001b[1;32m   5398\u001b[0m         \"\"\"\n\u001b[0;32m-> 5399\u001b[0;31m         return super().drop(\n\u001b[0m\u001b[1;32m   5400\u001b[0m             \u001b[0mlabels\u001b[0m\u001b[0;34m=\u001b[0m\u001b[0mlabels\u001b[0m\u001b[0;34m,\u001b[0m\u001b[0;34m\u001b[0m\u001b[0;34m\u001b[0m\u001b[0m\n\u001b[1;32m   5401\u001b[0m             \u001b[0maxis\u001b[0m\u001b[0;34m=\u001b[0m\u001b[0maxis\u001b[0m\u001b[0;34m,\u001b[0m\u001b[0;34m\u001b[0m\u001b[0;34m\u001b[0m\u001b[0m\n",
            "\u001b[0;32m/usr/local/lib/python3.10/dist-packages/pandas/util/_decorators.py\u001b[0m in \u001b[0;36mwrapper\u001b[0;34m(*args, **kwargs)\u001b[0m\n\u001b[1;32m    329\u001b[0m                     \u001b[0mstacklevel\u001b[0m\u001b[0;34m=\u001b[0m\u001b[0mfind_stack_level\u001b[0m\u001b[0;34m(\u001b[0m\u001b[0;34m)\u001b[0m\u001b[0;34m,\u001b[0m\u001b[0;34m\u001b[0m\u001b[0;34m\u001b[0m\u001b[0m\n\u001b[1;32m    330\u001b[0m                 )\n\u001b[0;32m--> 331\u001b[0;31m             \u001b[0;32mreturn\u001b[0m \u001b[0mfunc\u001b[0m\u001b[0;34m(\u001b[0m\u001b[0;34m*\u001b[0m\u001b[0margs\u001b[0m\u001b[0;34m,\u001b[0m \u001b[0;34m**\u001b[0m\u001b[0mkwargs\u001b[0m\u001b[0;34m)\u001b[0m\u001b[0;34m\u001b[0m\u001b[0;34m\u001b[0m\u001b[0m\n\u001b[0m\u001b[1;32m    332\u001b[0m \u001b[0;34m\u001b[0m\u001b[0m\n\u001b[1;32m    333\u001b[0m         \u001b[0;31m# error: \"Callable[[VarArg(Any), KwArg(Any)], Any]\" has no\u001b[0m\u001b[0;34m\u001b[0m\u001b[0;34m\u001b[0m\u001b[0m\n",
            "\u001b[0;32m/usr/local/lib/python3.10/dist-packages/pandas/core/generic.py\u001b[0m in \u001b[0;36mdrop\u001b[0;34m(self, labels, axis, index, columns, level, inplace, errors)\u001b[0m\n\u001b[1;32m   4503\u001b[0m         \u001b[0;32mfor\u001b[0m \u001b[0maxis\u001b[0m\u001b[0;34m,\u001b[0m \u001b[0mlabels\u001b[0m \u001b[0;32min\u001b[0m \u001b[0maxes\u001b[0m\u001b[0;34m.\u001b[0m\u001b[0mitems\u001b[0m\u001b[0;34m(\u001b[0m\u001b[0;34m)\u001b[0m\u001b[0;34m:\u001b[0m\u001b[0;34m\u001b[0m\u001b[0;34m\u001b[0m\u001b[0m\n\u001b[1;32m   4504\u001b[0m             \u001b[0;32mif\u001b[0m \u001b[0mlabels\u001b[0m \u001b[0;32mis\u001b[0m \u001b[0;32mnot\u001b[0m \u001b[0;32mNone\u001b[0m\u001b[0;34m:\u001b[0m\u001b[0;34m\u001b[0m\u001b[0;34m\u001b[0m\u001b[0m\n\u001b[0;32m-> 4505\u001b[0;31m                 \u001b[0mobj\u001b[0m \u001b[0;34m=\u001b[0m \u001b[0mobj\u001b[0m\u001b[0;34m.\u001b[0m\u001b[0m_drop_axis\u001b[0m\u001b[0;34m(\u001b[0m\u001b[0mlabels\u001b[0m\u001b[0;34m,\u001b[0m \u001b[0maxis\u001b[0m\u001b[0;34m,\u001b[0m \u001b[0mlevel\u001b[0m\u001b[0;34m=\u001b[0m\u001b[0mlevel\u001b[0m\u001b[0;34m,\u001b[0m \u001b[0merrors\u001b[0m\u001b[0;34m=\u001b[0m\u001b[0merrors\u001b[0m\u001b[0;34m)\u001b[0m\u001b[0;34m\u001b[0m\u001b[0;34m\u001b[0m\u001b[0m\n\u001b[0m\u001b[1;32m   4506\u001b[0m \u001b[0;34m\u001b[0m\u001b[0m\n\u001b[1;32m   4507\u001b[0m         \u001b[0;32mif\u001b[0m \u001b[0minplace\u001b[0m\u001b[0;34m:\u001b[0m\u001b[0;34m\u001b[0m\u001b[0;34m\u001b[0m\u001b[0m\n",
            "\u001b[0;32m/usr/local/lib/python3.10/dist-packages/pandas/core/generic.py\u001b[0m in \u001b[0;36m_drop_axis\u001b[0;34m(self, labels, axis, level, errors, only_slice)\u001b[0m\n\u001b[1;32m   4583\u001b[0m \u001b[0;34m\u001b[0m\u001b[0m\n\u001b[1;32m   4584\u001b[0m         \u001b[0mbm_axis\u001b[0m \u001b[0;34m=\u001b[0m \u001b[0mself\u001b[0m\u001b[0;34m.\u001b[0m\u001b[0mndim\u001b[0m \u001b[0;34m-\u001b[0m \u001b[0maxis_num\u001b[0m \u001b[0;34m-\u001b[0m \u001b[0;36m1\u001b[0m\u001b[0;34m\u001b[0m\u001b[0;34m\u001b[0m\u001b[0m\n\u001b[0;32m-> 4585\u001b[0;31m         new_mgr = self._mgr.reindex_indexer(\n\u001b[0m\u001b[1;32m   4586\u001b[0m             \u001b[0mnew_axis\u001b[0m\u001b[0;34m,\u001b[0m\u001b[0;34m\u001b[0m\u001b[0;34m\u001b[0m\u001b[0m\n\u001b[1;32m   4587\u001b[0m             \u001b[0mindexer\u001b[0m\u001b[0;34m,\u001b[0m\u001b[0;34m\u001b[0m\u001b[0;34m\u001b[0m\u001b[0m\n",
            "\u001b[0;32m/usr/local/lib/python3.10/dist-packages/pandas/core/internals/managers.py\u001b[0m in \u001b[0;36mreindex_indexer\u001b[0;34m(self, new_axis, indexer, axis, fill_value, allow_dups, copy, only_slice, use_na_proxy)\u001b[0m\n\u001b[1;32m    741\u001b[0m \u001b[0;34m\u001b[0m\u001b[0m\n\u001b[1;32m    742\u001b[0m         \u001b[0;32mif\u001b[0m \u001b[0maxis\u001b[0m \u001b[0;34m==\u001b[0m \u001b[0;36m0\u001b[0m\u001b[0;34m:\u001b[0m\u001b[0;34m\u001b[0m\u001b[0;34m\u001b[0m\u001b[0m\n\u001b[0;32m--> 743\u001b[0;31m             new_blocks, new_refs = self._slice_take_blocks_ax0(\n\u001b[0m\u001b[1;32m    744\u001b[0m                 \u001b[0mindexer\u001b[0m\u001b[0;34m,\u001b[0m\u001b[0;34m\u001b[0m\u001b[0;34m\u001b[0m\u001b[0m\n\u001b[1;32m    745\u001b[0m                 \u001b[0mfill_value\u001b[0m\u001b[0;34m=\u001b[0m\u001b[0mfill_value\u001b[0m\u001b[0;34m,\u001b[0m\u001b[0;34m\u001b[0m\u001b[0;34m\u001b[0m\u001b[0m\n",
            "\u001b[0;32m/usr/local/lib/python3.10/dist-packages/pandas/core/internals/managers.py\u001b[0m in \u001b[0;36m_slice_take_blocks_ax0\u001b[0;34m(self, slice_or_indexer, fill_value, only_slice, use_na_proxy)\u001b[0m\n\u001b[1;32m    910\u001b[0m                             \u001b[0mrefs\u001b[0m\u001b[0;34m.\u001b[0m\u001b[0mappend\u001b[0m\u001b[0;34m(\u001b[0m\u001b[0mweakref\u001b[0m\u001b[0;34m.\u001b[0m\u001b[0mref\u001b[0m\u001b[0;34m(\u001b[0m\u001b[0mblk\u001b[0m\u001b[0;34m)\u001b[0m\u001b[0;34m)\u001b[0m\u001b[0;34m\u001b[0m\u001b[0;34m\u001b[0m\u001b[0m\n\u001b[1;32m    911\u001b[0m                     \u001b[0;32melse\u001b[0m\u001b[0;34m:\u001b[0m\u001b[0;34m\u001b[0m\u001b[0;34m\u001b[0m\u001b[0m\n\u001b[0;32m--> 912\u001b[0;31m                         \u001b[0mnb\u001b[0m \u001b[0;34m=\u001b[0m \u001b[0mblk\u001b[0m\u001b[0;34m.\u001b[0m\u001b[0mtake_nd\u001b[0m\u001b[0;34m(\u001b[0m\u001b[0mtaker\u001b[0m\u001b[0;34m,\u001b[0m \u001b[0maxis\u001b[0m\u001b[0;34m=\u001b[0m\u001b[0;36m0\u001b[0m\u001b[0;34m,\u001b[0m \u001b[0mnew_mgr_locs\u001b[0m\u001b[0;34m=\u001b[0m\u001b[0mmgr_locs\u001b[0m\u001b[0;34m)\u001b[0m\u001b[0;34m\u001b[0m\u001b[0;34m\u001b[0m\u001b[0m\n\u001b[0m\u001b[1;32m    913\u001b[0m                         \u001b[0mblocks\u001b[0m\u001b[0;34m.\u001b[0m\u001b[0mappend\u001b[0m\u001b[0;34m(\u001b[0m\u001b[0mnb\u001b[0m\u001b[0;34m)\u001b[0m\u001b[0;34m\u001b[0m\u001b[0;34m\u001b[0m\u001b[0m\n\u001b[1;32m    914\u001b[0m                         \u001b[0mrefs\u001b[0m\u001b[0;34m.\u001b[0m\u001b[0mappend\u001b[0m\u001b[0;34m(\u001b[0m\u001b[0;32mNone\u001b[0m\u001b[0;34m)\u001b[0m\u001b[0;34m\u001b[0m\u001b[0;34m\u001b[0m\u001b[0m\n",
            "\u001b[0;32m/usr/local/lib/python3.10/dist-packages/pandas/core/internals/blocks.py\u001b[0m in \u001b[0;36mtake_nd\u001b[0;34m(self, indexer, axis, new_mgr_locs, fill_value)\u001b[0m\n\u001b[1;32m    878\u001b[0m \u001b[0;34m\u001b[0m\u001b[0m\n\u001b[1;32m    879\u001b[0m         \u001b[0;31m# Note: algos.take_nd has upcast logic similar to coerce_to_target_dtype\u001b[0m\u001b[0;34m\u001b[0m\u001b[0;34m\u001b[0m\u001b[0m\n\u001b[0;32m--> 880\u001b[0;31m         new_values = algos.take_nd(\n\u001b[0m\u001b[1;32m    881\u001b[0m             \u001b[0mvalues\u001b[0m\u001b[0;34m,\u001b[0m \u001b[0mindexer\u001b[0m\u001b[0;34m,\u001b[0m \u001b[0maxis\u001b[0m\u001b[0;34m=\u001b[0m\u001b[0maxis\u001b[0m\u001b[0;34m,\u001b[0m \u001b[0mallow_fill\u001b[0m\u001b[0;34m=\u001b[0m\u001b[0mallow_fill\u001b[0m\u001b[0;34m,\u001b[0m \u001b[0mfill_value\u001b[0m\u001b[0;34m=\u001b[0m\u001b[0mfill_value\u001b[0m\u001b[0;34m\u001b[0m\u001b[0;34m\u001b[0m\u001b[0m\n\u001b[1;32m    882\u001b[0m         )\n",
            "\u001b[0;32m/usr/local/lib/python3.10/dist-packages/pandas/core/array_algos/take.py\u001b[0m in \u001b[0;36mtake_nd\u001b[0;34m(arr, indexer, axis, fill_value, allow_fill)\u001b[0m\n\u001b[1;32m    115\u001b[0m \u001b[0;34m\u001b[0m\u001b[0m\n\u001b[1;32m    116\u001b[0m     \u001b[0marr\u001b[0m \u001b[0;34m=\u001b[0m \u001b[0mnp\u001b[0m\u001b[0;34m.\u001b[0m\u001b[0masarray\u001b[0m\u001b[0;34m(\u001b[0m\u001b[0marr\u001b[0m\u001b[0;34m)\u001b[0m\u001b[0;34m\u001b[0m\u001b[0;34m\u001b[0m\u001b[0m\n\u001b[0;32m--> 117\u001b[0;31m     \u001b[0;32mreturn\u001b[0m \u001b[0m_take_nd_ndarray\u001b[0m\u001b[0;34m(\u001b[0m\u001b[0marr\u001b[0m\u001b[0;34m,\u001b[0m \u001b[0mindexer\u001b[0m\u001b[0;34m,\u001b[0m \u001b[0maxis\u001b[0m\u001b[0;34m,\u001b[0m \u001b[0mfill_value\u001b[0m\u001b[0;34m,\u001b[0m \u001b[0mallow_fill\u001b[0m\u001b[0;34m)\u001b[0m\u001b[0;34m\u001b[0m\u001b[0;34m\u001b[0m\u001b[0m\n\u001b[0m\u001b[1;32m    118\u001b[0m \u001b[0;34m\u001b[0m\u001b[0m\n\u001b[1;32m    119\u001b[0m \u001b[0;34m\u001b[0m\u001b[0m\n",
            "\u001b[0;32m/usr/local/lib/python3.10/dist-packages/pandas/core/array_algos/take.py\u001b[0m in \u001b[0;36m_take_nd_ndarray\u001b[0;34m(arr, indexer, axis, fill_value, allow_fill)\u001b[0m\n\u001b[1;32m    161\u001b[0m         \u001b[0marr\u001b[0m\u001b[0;34m.\u001b[0m\u001b[0mndim\u001b[0m\u001b[0;34m,\u001b[0m \u001b[0marr\u001b[0m\u001b[0;34m.\u001b[0m\u001b[0mdtype\u001b[0m\u001b[0;34m,\u001b[0m \u001b[0mout\u001b[0m\u001b[0;34m.\u001b[0m\u001b[0mdtype\u001b[0m\u001b[0;34m,\u001b[0m \u001b[0maxis\u001b[0m\u001b[0;34m=\u001b[0m\u001b[0maxis\u001b[0m\u001b[0;34m,\u001b[0m \u001b[0mmask_info\u001b[0m\u001b[0;34m=\u001b[0m\u001b[0mmask_info\u001b[0m\u001b[0;34m\u001b[0m\u001b[0;34m\u001b[0m\u001b[0m\n\u001b[1;32m    162\u001b[0m     )\n\u001b[0;32m--> 163\u001b[0;31m     \u001b[0mfunc\u001b[0m\u001b[0;34m(\u001b[0m\u001b[0marr\u001b[0m\u001b[0;34m,\u001b[0m \u001b[0mindexer\u001b[0m\u001b[0;34m,\u001b[0m \u001b[0mout\u001b[0m\u001b[0;34m,\u001b[0m \u001b[0mfill_value\u001b[0m\u001b[0;34m)\u001b[0m\u001b[0;34m\u001b[0m\u001b[0;34m\u001b[0m\u001b[0m\n\u001b[0m\u001b[1;32m    164\u001b[0m \u001b[0;34m\u001b[0m\u001b[0m\n\u001b[1;32m    165\u001b[0m     \u001b[0;32mif\u001b[0m \u001b[0mflip_order\u001b[0m\u001b[0;34m:\u001b[0m\u001b[0;34m\u001b[0m\u001b[0;34m\u001b[0m\u001b[0m\n",
            "\u001b[0;32m/usr/local/lib/python3.10/dist-packages/pandas/core/array_algos/take.py\u001b[0m in \u001b[0;36mfunc\u001b[0;34m(arr, indexer, out, fill_value)\u001b[0m\n\u001b[1;32m    340\u001b[0m         \u001b[0;32mdef\u001b[0m \u001b[0mfunc\u001b[0m\u001b[0;34m(\u001b[0m\u001b[0marr\u001b[0m\u001b[0;34m,\u001b[0m \u001b[0mindexer\u001b[0m\u001b[0;34m,\u001b[0m \u001b[0mout\u001b[0m\u001b[0;34m,\u001b[0m \u001b[0mfill_value\u001b[0m\u001b[0;34m=\u001b[0m\u001b[0mnp\u001b[0m\u001b[0;34m.\u001b[0m\u001b[0mnan\u001b[0m\u001b[0;34m)\u001b[0m\u001b[0;34m:\u001b[0m\u001b[0;34m\u001b[0m\u001b[0;34m\u001b[0m\u001b[0m\n\u001b[1;32m    341\u001b[0m             \u001b[0mindexer\u001b[0m \u001b[0;34m=\u001b[0m \u001b[0mensure_platform_int\u001b[0m\u001b[0;34m(\u001b[0m\u001b[0mindexer\u001b[0m\u001b[0;34m)\u001b[0m\u001b[0;34m\u001b[0m\u001b[0;34m\u001b[0m\u001b[0m\n\u001b[0;32m--> 342\u001b[0;31m             _take_nd_object(\n\u001b[0m\u001b[1;32m    343\u001b[0m                 \u001b[0marr\u001b[0m\u001b[0;34m,\u001b[0m \u001b[0mindexer\u001b[0m\u001b[0;34m,\u001b[0m \u001b[0mout\u001b[0m\u001b[0;34m,\u001b[0m \u001b[0maxis\u001b[0m\u001b[0;34m=\u001b[0m\u001b[0maxis\u001b[0m\u001b[0;34m,\u001b[0m \u001b[0mfill_value\u001b[0m\u001b[0;34m=\u001b[0m\u001b[0mfill_value\u001b[0m\u001b[0;34m,\u001b[0m \u001b[0mmask_info\u001b[0m\u001b[0;34m=\u001b[0m\u001b[0mmask_info\u001b[0m\u001b[0;34m\u001b[0m\u001b[0;34m\u001b[0m\u001b[0m\n\u001b[1;32m    344\u001b[0m             )\n",
            "\u001b[0;32m/usr/local/lib/python3.10/dist-packages/pandas/core/array_algos/take.py\u001b[0m in \u001b[0;36m_take_nd_object\u001b[0;34m(arr, indexer, out, axis, fill_value, mask_info)\u001b[0m\n\u001b[1;32m    516\u001b[0m         \u001b[0marr\u001b[0m \u001b[0;34m=\u001b[0m \u001b[0marr\u001b[0m\u001b[0;34m.\u001b[0m\u001b[0mastype\u001b[0m\u001b[0;34m(\u001b[0m\u001b[0mout\u001b[0m\u001b[0;34m.\u001b[0m\u001b[0mdtype\u001b[0m\u001b[0;34m)\u001b[0m\u001b[0;34m\u001b[0m\u001b[0;34m\u001b[0m\u001b[0m\n\u001b[1;32m    517\u001b[0m     \u001b[0;32mif\u001b[0m \u001b[0marr\u001b[0m\u001b[0;34m.\u001b[0m\u001b[0mshape\u001b[0m\u001b[0;34m[\u001b[0m\u001b[0maxis\u001b[0m\u001b[0;34m]\u001b[0m \u001b[0;34m>\u001b[0m \u001b[0;36m0\u001b[0m\u001b[0;34m:\u001b[0m\u001b[0;34m\u001b[0m\u001b[0;34m\u001b[0m\u001b[0m\n\u001b[0;32m--> 518\u001b[0;31m         \u001b[0marr\u001b[0m\u001b[0;34m.\u001b[0m\u001b[0mtake\u001b[0m\u001b[0;34m(\u001b[0m\u001b[0mindexer\u001b[0m\u001b[0;34m,\u001b[0m \u001b[0maxis\u001b[0m\u001b[0;34m=\u001b[0m\u001b[0maxis\u001b[0m\u001b[0;34m,\u001b[0m \u001b[0mout\u001b[0m\u001b[0;34m=\u001b[0m\u001b[0mout\u001b[0m\u001b[0;34m)\u001b[0m\u001b[0;34m\u001b[0m\u001b[0;34m\u001b[0m\u001b[0m\n\u001b[0m\u001b[1;32m    519\u001b[0m     \u001b[0;32mif\u001b[0m \u001b[0mneeds_masking\u001b[0m\u001b[0;34m:\u001b[0m\u001b[0;34m\u001b[0m\u001b[0;34m\u001b[0m\u001b[0m\n\u001b[1;32m    520\u001b[0m         \u001b[0moutindexer\u001b[0m \u001b[0;34m=\u001b[0m \u001b[0;34m[\u001b[0m\u001b[0mslice\u001b[0m\u001b[0;34m(\u001b[0m\u001b[0;32mNone\u001b[0m\u001b[0;34m)\u001b[0m\u001b[0;34m]\u001b[0m \u001b[0;34m*\u001b[0m \u001b[0marr\u001b[0m\u001b[0;34m.\u001b[0m\u001b[0mndim\u001b[0m\u001b[0;34m\u001b[0m\u001b[0;34m\u001b[0m\u001b[0m\n",
            "\u001b[0;31mKeyboardInterrupt\u001b[0m: "
          ]
        }
      ]
    },
    {
      "cell_type": "markdown",
      "metadata": {
        "id": "3NuP1zcmCnmF"
      },
      "source": [
        "##データの可視化と分析"
      ]
    },
    {
      "cell_type": "markdown",
      "metadata": {
        "id": "jSh7uV_4CnmF"
      },
      "source": []
    },
    {
      "cell_type": "code",
      "execution_count": 13,
      "metadata": {
        "id": "tmJzxS2nCnmG",
        "colab": {
          "base_uri": "https://localhost:8080/",
          "height": 144
        },
        "outputId": "34397e30-03f2-4d6f-8463-1d1c4f9202f0"
      },
      "outputs": [
        {
          "output_type": "execute_result",
          "data": {
            "text/plain": [
              "   FLAG_CONT_MOBILE  REGION_RATING_CLIENT_W_CITY  REG_REGION_NOT_LIVE_REGION  \\\n",
              "0                 1                            2                           0   \n",
              "1                 1                            2                           0   \n",
              "2                 1                            2                           0   \n",
              "\n",
              "   LIVE_CITY_NOT_WORK_CITY  OBS_60_CNT_SOCIAL_CIRCLE  DEF_60_CNT_SOCIAL_CIRCLE  \n",
              "0                        1                       0.0                       0.0  \n",
              "1                        0                       0.0                       0.0  \n",
              "2                        0                       4.0                       0.0  "
            ],
            "text/html": [
              "\n",
              "  <div id=\"df-7f3daf03-615d-46a6-9427-552f3aaf7ae3\">\n",
              "    <div class=\"colab-df-container\">\n",
              "      <div>\n",
              "<style scoped>\n",
              "    .dataframe tbody tr th:only-of-type {\n",
              "        vertical-align: middle;\n",
              "    }\n",
              "\n",
              "    .dataframe tbody tr th {\n",
              "        vertical-align: top;\n",
              "    }\n",
              "\n",
              "    .dataframe thead th {\n",
              "        text-align: right;\n",
              "    }\n",
              "</style>\n",
              "<table border=\"1\" class=\"dataframe\">\n",
              "  <thead>\n",
              "    <tr style=\"text-align: right;\">\n",
              "      <th></th>\n",
              "      <th>FLAG_CONT_MOBILE</th>\n",
              "      <th>REGION_RATING_CLIENT_W_CITY</th>\n",
              "      <th>REG_REGION_NOT_LIVE_REGION</th>\n",
              "      <th>LIVE_CITY_NOT_WORK_CITY</th>\n",
              "      <th>OBS_60_CNT_SOCIAL_CIRCLE</th>\n",
              "      <th>DEF_60_CNT_SOCIAL_CIRCLE</th>\n",
              "    </tr>\n",
              "  </thead>\n",
              "  <tbody>\n",
              "    <tr>\n",
              "      <th>0</th>\n",
              "      <td>1</td>\n",
              "      <td>2</td>\n",
              "      <td>0</td>\n",
              "      <td>1</td>\n",
              "      <td>0.0</td>\n",
              "      <td>0.0</td>\n",
              "    </tr>\n",
              "    <tr>\n",
              "      <th>1</th>\n",
              "      <td>1</td>\n",
              "      <td>2</td>\n",
              "      <td>0</td>\n",
              "      <td>0</td>\n",
              "      <td>0.0</td>\n",
              "      <td>0.0</td>\n",
              "    </tr>\n",
              "    <tr>\n",
              "      <th>2</th>\n",
              "      <td>1</td>\n",
              "      <td>2</td>\n",
              "      <td>0</td>\n",
              "      <td>0</td>\n",
              "      <td>4.0</td>\n",
              "      <td>0.0</td>\n",
              "    </tr>\n",
              "  </tbody>\n",
              "</table>\n",
              "</div>\n",
              "      <button class=\"colab-df-convert\" onclick=\"convertToInteractive('df-7f3daf03-615d-46a6-9427-552f3aaf7ae3')\"\n",
              "              title=\"Convert this dataframe to an interactive table.\"\n",
              "              style=\"display:none;\">\n",
              "        \n",
              "  <svg xmlns=\"http://www.w3.org/2000/svg\" height=\"24px\"viewBox=\"0 0 24 24\"\n",
              "       width=\"24px\">\n",
              "    <path d=\"M0 0h24v24H0V0z\" fill=\"none\"/>\n",
              "    <path d=\"M18.56 5.44l.94 2.06.94-2.06 2.06-.94-2.06-.94-.94-2.06-.94 2.06-2.06.94zm-11 1L8.5 8.5l.94-2.06 2.06-.94-2.06-.94L8.5 2.5l-.94 2.06-2.06.94zm10 10l.94 2.06.94-2.06 2.06-.94-2.06-.94-.94-2.06-.94 2.06-2.06.94z\"/><path d=\"M17.41 7.96l-1.37-1.37c-.4-.4-.92-.59-1.43-.59-.52 0-1.04.2-1.43.59L10.3 9.45l-7.72 7.72c-.78.78-.78 2.05 0 2.83L4 21.41c.39.39.9.59 1.41.59.51 0 1.02-.2 1.41-.59l7.78-7.78 2.81-2.81c.8-.78.8-2.07 0-2.86zM5.41 20L4 18.59l7.72-7.72 1.47 1.35L5.41 20z\"/>\n",
              "  </svg>\n",
              "      </button>\n",
              "      \n",
              "  <style>\n",
              "    .colab-df-container {\n",
              "      display:flex;\n",
              "      flex-wrap:wrap;\n",
              "      gap: 12px;\n",
              "    }\n",
              "\n",
              "    .colab-df-convert {\n",
              "      background-color: #E8F0FE;\n",
              "      border: none;\n",
              "      border-radius: 50%;\n",
              "      cursor: pointer;\n",
              "      display: none;\n",
              "      fill: #1967D2;\n",
              "      height: 32px;\n",
              "      padding: 0 0 0 0;\n",
              "      width: 32px;\n",
              "    }\n",
              "\n",
              "    .colab-df-convert:hover {\n",
              "      background-color: #E2EBFA;\n",
              "      box-shadow: 0px 1px 2px rgba(60, 64, 67, 0.3), 0px 1px 3px 1px rgba(60, 64, 67, 0.15);\n",
              "      fill: #174EA6;\n",
              "    }\n",
              "\n",
              "    [theme=dark] .colab-df-convert {\n",
              "      background-color: #3B4455;\n",
              "      fill: #D2E3FC;\n",
              "    }\n",
              "\n",
              "    [theme=dark] .colab-df-convert:hover {\n",
              "      background-color: #434B5C;\n",
              "      box-shadow: 0px 1px 3px 1px rgba(0, 0, 0, 0.15);\n",
              "      filter: drop-shadow(0px 1px 2px rgba(0, 0, 0, 0.3));\n",
              "      fill: #FFFFFF;\n",
              "    }\n",
              "  </style>\n",
              "\n",
              "      <script>\n",
              "        const buttonEl =\n",
              "          document.querySelector('#df-7f3daf03-615d-46a6-9427-552f3aaf7ae3 button.colab-df-convert');\n",
              "        buttonEl.style.display =\n",
              "          google.colab.kernel.accessAllowed ? 'block' : 'none';\n",
              "\n",
              "        async function convertToInteractive(key) {\n",
              "          const element = document.querySelector('#df-7f3daf03-615d-46a6-9427-552f3aaf7ae3');\n",
              "          const dataTable =\n",
              "            await google.colab.kernel.invokeFunction('convertToInteractive',\n",
              "                                                     [key], {});\n",
              "          if (!dataTable) return;\n",
              "\n",
              "          const docLinkHtml = 'Like what you see? Visit the ' +\n",
              "            '<a target=\"_blank\" href=https://colab.research.google.com/notebooks/data_table.ipynb>data table notebook</a>'\n",
              "            + ' to learn more about interactive tables.';\n",
              "          element.innerHTML = '';\n",
              "          dataTable['output_type'] = 'display_data';\n",
              "          await google.colab.output.renderOutput(dataTable, element);\n",
              "          const docLink = document.createElement('div');\n",
              "          docLink.innerHTML = docLinkHtml;\n",
              "          element.appendChild(docLink);\n",
              "        }\n",
              "      </script>\n",
              "    </div>\n",
              "  </div>\n",
              "  "
            ]
          },
          "metadata": {},
          "execution_count": 13
        }
      ],
      "source": [
        "lista = [\"FLAG_CONT_MOBILE\",\"REGION_RATING_CLIENT_W_CITY\",\"REG_REGION_NOT_LIVE_REGION\",\"LIVE_CITY_NOT_WORK_CITY\",\n",
        "                     \"OBS_60_CNT_SOCIAL_CIRCLE\",\"DEF_60_CNT_SOCIAL_CIRCLE\"]\n",
        "train[lista].head(3)"
      ]
    },
    {
      "cell_type": "code",
      "execution_count": 14,
      "metadata": {
        "id": "Skhz17sKA7BE"
      },
      "outputs": [],
      "source": [
        "test_feature = [\"SK_ID_CURR\",\"TARGET\",\"EXT_SOURCE_1\",\"EXT_SOURCE_2\",\"EXT_SOURCE_3\", \"AMT_INCOME_TOTAL\", 'AMT_INCOME_TOTAL',\n",
        "                'AMT_CREDIT', 'AMT_ANNUITY', 'AMT_GOODS_PRICE', 'REGION_POPULATION_RELATIVE',\"CNT_CHILDREN\"]\n",
        "train5 = train[test_feature]"
      ]
    },
    {
      "cell_type": "code",
      "execution_count": 15,
      "metadata": {
        "id": "AFGukv4sVK3-",
        "colab": {
          "base_uri": "https://localhost:8080/",
          "height": 813
        },
        "outputId": "b4392b66-1fa7-4f7d-cb20-844cae0ef8cd"
      },
      "outputs": [
        {
          "output_type": "display_data",
          "data": {
            "text/plain": [
              "<Figure size 1500x700 with 2 Axes>"
            ],
            "image/png": "[encoded data removed]"
          },
          "metadata": {}
        }
      ],
      "source": [
        "sns.heatmap(train5.corr(),annot=True,cmap='bwr',linewidths=0.1)\n",
        "fig=plt.gcf()\n",
        "fig.set_size_inches(15,7)\n",
        "plt.show()"
      ]
    },
    {
      "cell_type": "code",
      "execution_count": 16,
      "metadata": {
        "id": "Y_yougwzlS4B",
        "colab": {
          "base_uri": "https://localhost:8080/",
          "height": 339
        },
        "outputId": "4384cb5b-0945-4b9e-c465-986521565c1f"
      },
      "outputs": [
        {
          "output_type": "error",
          "ename": "ValueError",
          "evalue": "ignored",
          "traceback": [
            "\u001b[0;31m---------------------------------------------------------------------------\u001b[0m",
            "\u001b[0;31mValueError\u001b[0m                                Traceback (most recent call last)",
            "\u001b[0;32m<ipython-input-16-05aeb2e5d478>\u001b[0m in \u001b[0;36m<cell line: 1>\u001b[0;34m()\u001b[0m\n\u001b[0;32m----> 1\u001b[0;31m \u001b[0msns\u001b[0m\u001b[0;34m.\u001b[0m\u001b[0mdisplot\u001b[0m\u001b[0;34m(\u001b[0m\u001b[0mdata\u001b[0m\u001b[0;34m=\u001b[0m\u001b[0mtrain\u001b[0m\u001b[0;34m,\u001b[0m \u001b[0mx\u001b[0m\u001b[0;34m=\u001b[0m\u001b[0;34m\"\"\u001b[0m\u001b[0;34m)\u001b[0m\u001b[0;34m\u001b[0m\u001b[0;34m\u001b[0m\u001b[0m\n\u001b[0m\u001b[1;32m      2\u001b[0m \u001b[0mplt\u001b[0m\u001b[0;34m.\u001b[0m\u001b[0mshow\u001b[0m\u001b[0;34m(\u001b[0m\u001b[0;34m)\u001b[0m\u001b[0;34m\u001b[0m\u001b[0;34m\u001b[0m\u001b[0m\n",
            "\u001b[0;32m/usr/local/lib/python3.10/dist-packages/seaborn/distributions.py\u001b[0m in \u001b[0;36mdisplot\u001b[0;34m(data, x, y, hue, row, col, weights, kind, rug, rug_kws, log_scale, legend, palette, hue_order, hue_norm, color, col_wrap, row_order, col_order, height, aspect, facet_kws, **kwargs)\u001b[0m\n\u001b[1;32m   2123\u001b[0m ):\n\u001b[1;32m   2124\u001b[0m \u001b[0;34m\u001b[0m\u001b[0m\n\u001b[0;32m-> 2125\u001b[0;31m     p = _DistributionFacetPlotter(\n\u001b[0m\u001b[1;32m   2126\u001b[0m         \u001b[0mdata\u001b[0m\u001b[0;34m=\u001b[0m\u001b[0mdata\u001b[0m\u001b[0;34m,\u001b[0m\u001b[0;34m\u001b[0m\u001b[0;34m\u001b[0m\u001b[0m\n\u001b[1;32m   2127\u001b[0m         \u001b[0mvariables\u001b[0m\u001b[0;34m=\u001b[0m\u001b[0m_DistributionFacetPlotter\u001b[0m\u001b[0;34m.\u001b[0m\u001b[0mget_semantics\u001b[0m\u001b[0;34m(\u001b[0m\u001b[0mlocals\u001b[0m\u001b[0;34m(\u001b[0m\u001b[0;34m)\u001b[0m\u001b[0;34m)\u001b[0m\u001b[0;34m\u001b[0m\u001b[0;34m\u001b[0m\u001b[0m\n",
            "\u001b[0;32m/usr/local/lib/python3.10/dist-packages/seaborn/distributions.py\u001b[0m in \u001b[0;36m__init__\u001b[0;34m(self, data, variables)\u001b[0m\n\u001b[1;32m    111\u001b[0m     ):\n\u001b[1;32m    112\u001b[0m \u001b[0;34m\u001b[0m\u001b[0m\n\u001b[0;32m--> 113\u001b[0;31m         \u001b[0msuper\u001b[0m\u001b[0;34m(\u001b[0m\u001b[0;34m)\u001b[0m\u001b[0;34m.\u001b[0m\u001b[0m__init__\u001b[0m\u001b[0;34m(\u001b[0m\u001b[0mdata\u001b[0m\u001b[0;34m=\u001b[0m\u001b[0mdata\u001b[0m\u001b[0;34m,\u001b[0m \u001b[0mvariables\u001b[0m\u001b[0;34m=\u001b[0m\u001b[0mvariables\u001b[0m\u001b[0;34m)\u001b[0m\u001b[0;34m\u001b[0m\u001b[0;34m\u001b[0m\u001b[0m\n\u001b[0m\u001b[1;32m    114\u001b[0m \u001b[0;34m\u001b[0m\u001b[0m\n\u001b[1;32m    115\u001b[0m     \u001b[0;34m@\u001b[0m\u001b[0mproperty\u001b[0m\u001b[0;34m\u001b[0m\u001b[0;34m\u001b[0m\u001b[0m\n",
            "\u001b[0;32m/usr/local/lib/python3.10/dist-packages/seaborn/_oldcore.py\u001b[0m in \u001b[0;36m__init__\u001b[0;34m(self, data, variables)\u001b[0m\n\u001b[1;32m    638\u001b[0m         \u001b[0;31m# information for numeric axes would be information about log scales.\u001b[0m\u001b[0;34m\u001b[0m\u001b[0;34m\u001b[0m\u001b[0m\n\u001b[1;32m    639\u001b[0m         \u001b[0mself\u001b[0m\u001b[0;34m.\u001b[0m\u001b[0m_var_ordered\u001b[0m \u001b[0;34m=\u001b[0m \u001b[0;34m{\u001b[0m\u001b[0;34m\"x\"\u001b[0m\u001b[0;34m:\u001b[0m \u001b[0;32mFalse\u001b[0m\u001b[0;34m,\u001b[0m \u001b[0;34m\"y\"\u001b[0m\u001b[0;34m:\u001b[0m \u001b[0;32mFalse\u001b[0m\u001b[0;34m}\u001b[0m  \u001b[0;31m# alt., used DefaultDict\u001b[0m\u001b[0;34m\u001b[0m\u001b[0;34m\u001b[0m\u001b[0m\n\u001b[0;32m--> 640\u001b[0;31m         \u001b[0mself\u001b[0m\u001b[0;34m.\u001b[0m\u001b[0massign_variables\u001b[0m\u001b[0;34m(\u001b[0m\u001b[0mdata\u001b[0m\u001b[0;34m,\u001b[0m \u001b[0mvariables\u001b[0m\u001b[0;34m)\u001b[0m\u001b[0;34m\u001b[0m\u001b[0;34m\u001b[0m\u001b[0m\n\u001b[0m\u001b[1;32m    641\u001b[0m \u001b[0;34m\u001b[0m\u001b[0m\n\u001b[1;32m    642\u001b[0m         \u001b[0;32mfor\u001b[0m \u001b[0mvar\u001b[0m\u001b[0;34m,\u001b[0m \u001b[0mcls\u001b[0m \u001b[0;32min\u001b[0m \u001b[0mself\u001b[0m\u001b[0;34m.\u001b[0m\u001b[0m_semantic_mappings\u001b[0m\u001b[0;34m.\u001b[0m\u001b[0mitems\u001b[0m\u001b[0;34m(\u001b[0m\u001b[0;34m)\u001b[0m\u001b[0;34m:\u001b[0m\u001b[0;34m\u001b[0m\u001b[0;34m\u001b[0m\u001b[0m\n",
            "\u001b[0;32m/usr/local/lib/python3.10/dist-packages/seaborn/_oldcore.py\u001b[0m in \u001b[0;36massign_variables\u001b[0;34m(self, data, variables)\u001b[0m\n\u001b[1;32m    699\u001b[0m         \u001b[0;32melse\u001b[0m\u001b[0;34m:\u001b[0m\u001b[0;34m\u001b[0m\u001b[0;34m\u001b[0m\u001b[0m\n\u001b[1;32m    700\u001b[0m             \u001b[0mself\u001b[0m\u001b[0;34m.\u001b[0m\u001b[0minput_format\u001b[0m \u001b[0;34m=\u001b[0m \u001b[0;34m\"long\"\u001b[0m\u001b[0;34m\u001b[0m\u001b[0;34m\u001b[0m\u001b[0m\n\u001b[0;32m--> 701\u001b[0;31m             plot_data, variables = self._assign_variables_longform(\n\u001b[0m\u001b[1;32m    702\u001b[0m                 \u001b[0mdata\u001b[0m\u001b[0;34m,\u001b[0m \u001b[0;34m**\u001b[0m\u001b[0mvariables\u001b[0m\u001b[0;34m,\u001b[0m\u001b[0;34m\u001b[0m\u001b[0;34m\u001b[0m\u001b[0m\n\u001b[1;32m    703\u001b[0m             )\n",
            "\u001b[0;32m/usr/local/lib/python3.10/dist-packages/seaborn/_oldcore.py\u001b[0m in \u001b[0;36m_assign_variables_longform\u001b[0;34m(self, data, **kwargs)\u001b[0m\n\u001b[1;32m    936\u001b[0m \u001b[0;34m\u001b[0m\u001b[0m\n\u001b[1;32m    937\u001b[0m                 \u001b[0merr\u001b[0m \u001b[0;34m=\u001b[0m \u001b[0;34mf\"Could not interpret value `{val}` for parameter `{key}`\"\u001b[0m\u001b[0;34m\u001b[0m\u001b[0;34m\u001b[0m\u001b[0m\n\u001b[0;32m--> 938\u001b[0;31m                 \u001b[0;32mraise\u001b[0m \u001b[0mValueError\u001b[0m\u001b[0;34m(\u001b[0m\u001b[0merr\u001b[0m\u001b[0;34m)\u001b[0m\u001b[0;34m\u001b[0m\u001b[0;34m\u001b[0m\u001b[0m\n\u001b[0m\u001b[1;32m    939\u001b[0m \u001b[0;34m\u001b[0m\u001b[0m\n\u001b[1;32m    940\u001b[0m             \u001b[0;32melse\u001b[0m\u001b[0;34m:\u001b[0m\u001b[0;34m\u001b[0m\u001b[0;34m\u001b[0m\u001b[0m\n",
            "\u001b[0;31mValueError\u001b[0m: Could not interpret value `` for parameter `x`"
          ]
        }
      ],
      "source": [
        "sns.displot(data=train, x=\"\")\n",
        "plt.show()"
      ]
    },
    {
      "cell_type": "markdown",
      "metadata": {
        "id": "Zlg14zQ_oNF2"
      },
      "source": [
        "##EXTシリーズの欠損値予測"
      ]
    },
    {
      "cell_type": "markdown",
      "metadata": {
        "id": "iQRUuONnKRlD"
      },
      "source": [
        "###データフレーム整理"
      ]
    },
    {
      "cell_type": "code",
      "execution_count": null,
      "metadata": {
        "id": "DaDs5AsYofMq"
      },
      "outputs": [],
      "source": [
        "# 欠損値を含まないカラムのみを抽出\n",
        "filtered_df = train.dropna(axis=1)\n",
        "\n",
        "cut_list = [\"SK_ID_CURR\",\"TARGET\"]\n",
        "filtered_df.drop(cut_list,axis=1,inplace = True)\n",
        "\n",
        "#NAME_CONTRACT_TYPEの変換\n",
        "filtered_df[\"NAME_CONTRACT_TYPE\"].replace({'Cash loans': 0, 'Revolving loans': 1}, inplace=True)\n",
        "#NAME_HOUSING_TYPE⇒「With parents」と「Rented」の確率が高いとみて，１とする．それ以外を０と変換\n",
        "filtered_df[\"NAME_HOUSING_TYPE\"].replace({'Co-op apartment': 0, 'House / apartment': 0,'Municipal apartment': 0\n",
        "                                         ,'Office apartment': 0,'Rented apartment': 1,'With parents': 1}, inplace=True)\n",
        "# ORGANIZATION_TYPEの数値化（Count Encoding）\n",
        "organization_ce = filtered_df[\"ORGANIZATION_TYPE\"].value_counts()\n",
        "filtered_df[\"ORGANIZATION_TYPE\"]=filtered_df[\"ORGANIZATION_TYPE\"].map(organization_ce)\n",
        "#穴埋め\n",
        "filtered_df[\"CODE_GENDER\"] = filtered_df[\"CODE_GENDER\"].replace('XNA', np.nan).fillna('F')\n",
        "#CODE_GENDERのワンホットエンコーディング\n",
        "code_gender = pd.get_dummies(filtered_df[\"CODE_GENDER\"]).add_prefix(\"CODE_GENDER_\")\n",
        "filtered_df = pd.concat([filtered_df, code_gender], axis=1)\n",
        "filtered_df.drop('CODE_GENDER', axis=1, inplace=True)\n",
        "# NAME_INCOME_TYPEカテゴリの変換マップを作成\n",
        "category_mapping = {'Working': 1, 'Pensioner': 1, 'State servant': 1, 'Commercial associate': 1,\n",
        "                    'Student': 0, 'Businessman': 0, 'Maternity leave': 0, 'Unemployed': 0}\n",
        "filtered_df['NAME_INCOME_TYPE'] = filtered_df['NAME_INCOME_TYPE'].map(category_mapping)\n",
        "# NAME_EDUCATION_TYPEカテゴリの変換マップを作成\n",
        "category_mapping = {'Higher education': 0, 'Secondary / secondary special': 1, 'Lower secondary': 1, 'Incomplete higher': 1,\n",
        "                    'Academic degree': 0}\n",
        "filtered_df['NAME_EDUCATION_TYPE'] = filtered_df['NAME_EDUCATION_TYPE'].map(category_mapping)\n",
        "# NAME_FAMILY_STATUSカテゴリの変換マップを作成\n",
        "category_mapping = {'Married':0, 'Widow':1, 'Single / not married':1,\n",
        "                    'Separated':1,'Civil marriage':1, 'Unknown':1}\n",
        "filtered_df['NAME_FAMILY_STATUS'] = filtered_df['NAME_FAMILY_STATUS'].map(category_mapping)"
      ]
    },
    {
      "cell_type": "markdown",
      "metadata": {
        "id": "deAh_Ne7KqLj"
      },
      "source": [
        "###EXT_SOURCE_2"
      ]
    },
    {
      "cell_type": "code",
      "execution_count": null,
      "metadata": {
        "id": "H3Cg0jcWKpsT"
      },
      "outputs": [],
      "source": [
        "filtered_df[\"EXT_SOURCE_2\"] = train[\"EXT_SOURCE_2\"]"
      ]
    },
    {
      "cell_type": "code",
      "execution_count": null,
      "metadata": {
        "id": "BrBGR3xiK54h"
      },
      "outputs": [],
      "source": [
        "from sklearn.ensemble import RandomForestRegressor\n",
        "\n",
        "# データセットの読み込み\n",
        "data = filtered_df\n",
        "\n",
        "# 欠損値を含むサンプルとそれ以外のサンプルに分割\n",
        "test_data = data[data['EXT_SOURCE_2'].isnull()]\n",
        "train_data = data[~data['EXT_SOURCE_2'].isnull()]\n",
        "\n",
        "# 説明変数と目的変数の分割\n",
        "X_train = train_data.drop('EXT_SOURCE_2', axis=1)\n",
        "y_train = train_data['EXT_SOURCE_2']\n",
        "\n",
        "# ランダムフォレストモデルの作成と学習\n",
        "model = RandomForestRegressor()\n",
        "model.fit(X_train, y_train)\n",
        "\n",
        "# 欠損値を予測\n",
        "X_test = test_data.drop('EXT_SOURCE_2', axis=1)\n",
        "predicted_values = model.predict(X_test)\n",
        "\n",
        "# 欠損値を予測値で埋める\n",
        "data.loc[data['EXT_SOURCE_2'].isnull(), 'EXT_SOURCE_2'] = predicted_values"
      ]
    },
    {
      "cell_type": "code",
      "execution_count": null,
      "metadata": {
        "colab": {
          "base_uri": "https://localhost:8080/",
          "height": 72
        },
        "id": "9YJEklNXNGCa",
        "outputId": "447e82e0-a703-449a-8d6a-1ddd843f9b49"
      },
      "outputs": [
        {
          "data": {
            "image/png": "[encoded data removed]",
            "text/plain": [
              "<Figure size 500x500 with 1 Axes>"
            ]
          },
          "metadata": {},
          "output_type": "display_data"
        },
        {
          "data": {
            "text/plain": [
              "0.5144853327688751"
            ]
          },
          "execution_count": 7,
          "metadata": {},
          "output_type": "execute_result"
        }
      ],
      "source": [
        "sns.displot(data=data, x=\"EXT_SOURCE_2\")\n",
        "plt.show()\n",
        "data[\"EXT_SOURCE_2\"].mean()"
      ]
    },
    {
      "cell_type": "markdown",
      "metadata": {
        "id": "J_u2MSX7N5pm"
      },
      "source": [
        "###EXT_SOURCE_3\n",
        "\n"
      ]
    },
    {
      "cell_type": "code",
      "execution_count": null,
      "metadata": {
        "id": "Uh2GJvdvN5pr"
      },
      "outputs": [],
      "source": [
        "data[\"EXT_SOURCE_3\"] = train[\"EXT_SOURCE_3\"]"
      ]
    },
    {
      "cell_type": "code",
      "execution_count": null,
      "metadata": {
        "id": "gckkl1CbN5pu"
      },
      "outputs": [],
      "source": [
        "from sklearn.ensemble import RandomForestRegressor\n",
        "\n",
        "# 欠損値を含むサンプルとそれ以外のサンプルに分割\n",
        "test_data = data[data['EXT_SOURCE_3'].isnull()]\n",
        "train_data = data[~data['EXT_SOURCE_3'].isnull()]\n",
        "\n",
        "# 説明変数と目的変数の分割\n",
        "X_train = train_data.drop('EXT_SOURCE_3', axis=1)\n",
        "y_train = train_data['EXT_SOURCE_3']\n",
        "\n",
        "# ランダムフォレストモデルの作成と学習\n",
        "model = RandomForestRegressor()\n",
        "model.fit(X_train, y_train)\n",
        "\n",
        "# 欠損値を予測\n",
        "X_test = test_data.drop('EXT_SOURCE_3', axis=1)\n",
        "predicted_values = model.predict(X_test)\n",
        "\n",
        "# 欠損値を予測値で埋める\n",
        "data.loc[data['EXT_SOURCE_3'].isnull(), 'EXT_SOURCE_3'] = predicted_values"
      ]
    },
    {
      "cell_type": "code",
      "execution_count": null,
      "metadata": {
        "colab": {
          "base_uri": "https://localhost:8080/",
          "height": 72
        },
        "id": "YcvNDtNdN5px",
        "outputId": "c7783a3d-c8d9-4967-90ed-e3484561f761"
      },
      "outputs": [
        {
          "data": {
            "image/png": "[encoded data removed]",
            "text/plain": [
              "<Figure size 500x500 with 1 Axes>"
            ]
          },
          "metadata": {},
          "output_type": "display_data"
        },
        {
          "data": {
            "text/plain": [
              "0.5082404139402711"
            ]
          },
          "execution_count": 10,
          "metadata": {},
          "output_type": "execute_result"
        }
      ],
      "source": [
        "sns.displot(data=data, x=\"EXT_SOURCE_3\")\n",
        "plt.show()\n",
        "data[\"EXT_SOURCE_3\"].mean()"
      ]
    },
    {
      "cell_type": "markdown",
      "metadata": {
        "id": "aT8iKFTtQiwb"
      },
      "source": [
        "###EXT_SOURCE_1\n",
        "\n"
      ]
    },
    {
      "cell_type": "code",
      "execution_count": null,
      "metadata": {
        "id": "k8JoDUDfQiwf"
      },
      "outputs": [],
      "source": [
        "data[\"EXT_SOURCE_1\"] = train[\"EXT_SOURCE_1\"]"
      ]
    },
    {
      "cell_type": "code",
      "execution_count": null,
      "metadata": {
        "id": "du-5ZSn6Qiwk"
      },
      "outputs": [],
      "source": [
        "from sklearn.ensemble import RandomForestRegressor\n",
        "\n",
        "# 欠損値を含むサンプルとそれ以外のサンプルに分割\n",
        "test_data = data[data['EXT_SOURCE_1'].isnull()]\n",
        "train_data = data[~data['EXT_SOURCE_1'].isnull()]\n",
        "\n",
        "# 説明変数と目的変数の分割\n",
        "X_train = train_data.drop('EXT_SOURCE_1', axis=1)\n",
        "y_train = train_data['EXT_SOURCE_1']\n",
        "\n",
        "# ランダムフォレストモデルの作成と学習\n",
        "model = RandomForestRegressor()\n",
        "model.fit(X_train, y_train)\n",
        "\n",
        "# 欠損値を予測\n",
        "X_test = test_data.drop('EXT_SOURCE_1', axis=1)\n",
        "predicted_values = model.predict(X_test)\n",
        "\n",
        "# 欠損値を予測値で埋める\n",
        "data.loc[data['EXT_SOURCE_1'].isnull(), 'EXT_SOURCE_1'] = predicted_values"
      ]
    },
    {
      "cell_type": "code",
      "execution_count": null,
      "metadata": {
        "colab": {
          "base_uri": "https://localhost:8080/",
          "height": 72
        },
        "id": "tseXDtirQiwo",
        "outputId": "acfa8ac9-2847-4a89-8d43-e17bacba8003"
      },
      "outputs": [
        {
          "data": {
            "image/png": "[encoded data removed]",
            "text/plain": [
              "<Figure size 500x500 with 1 Axes>"
            ]
          },
          "metadata": {},
          "output_type": "display_data"
        },
        {
          "data": {
            "text/plain": [
              "0.531411744795786"
            ]
          },
          "execution_count": 13,
          "metadata": {},
          "output_type": "execute_result"
        }
      ],
      "source": [
        "sns.displot(data=data, x=\"EXT_SOURCE_1\")\n",
        "plt.show()\n",
        "data[\"EXT_SOURCE_1\"].mean()"
      ]
    },
    {
      "cell_type": "markdown",
      "metadata": {
        "id": "-ivpnPL_HFvX"
      },
      "source": [
        "##EXTシリーズ欠損値予測２"
      ]
    },
    {
      "cell_type": "markdown",
      "metadata": {
        "id": "34q95YdTHibe"
      },
      "source": [
        "###データフレーム整理"
      ]
    },
    {
      "cell_type": "code",
      "execution_count": null,
      "metadata": {
        "id": "mD6ljC5vHEL6"
      },
      "outputs": [],
      "source": [
        "test_feature = [ \"AMT_INCOME_TOTAL\",'AMT_CREDIT', 'AMT_ANNUITY', 'AMT_GOODS_PRICE', 'REGION_POPULATION_RELATIVE']\n",
        "train_EXT = train[test_feature]"
      ]
    },
    {
      "cell_type": "markdown",
      "metadata": {
        "id": "jAFi1rD7H_zU"
      },
      "source": [
        "###欠損値埋め"
      ]
    },
    {
      "cell_type": "code",
      "execution_count": null,
      "metadata": {
        "id": "R3NDuBheHxhx"
      },
      "outputs": [],
      "source": [
        "train_EXT[\"AMT_ANNUITY\"].fillna(train[\"AMT_ANNUITY\"].mean(), inplace=True)\n",
        "train_EXT[\"AMT_GOODS_PRICE\"].fillna(train[\"AMT_GOODS_PRICE\"].mean(), inplace=True)"
      ]
    },
    {
      "cell_type": "markdown",
      "metadata": {
        "id": "haranO25LFzf"
      },
      "source": [
        "###EXT_SOURCE_2"
      ]
    },
    {
      "cell_type": "code",
      "execution_count": null,
      "metadata": {
        "id": "j5rTaYlPLJ18"
      },
      "outputs": [],
      "source": [
        "from sklearn.ensemble import RandomForestRegressor\n",
        "\n",
        "# データセットの読み込み\n",
        "train_EXT[\"EXT_SOURCE_2\"] = train[\"EXT_SOURCE_2\"]\n",
        "data = train_EXT\n",
        "\n",
        "# 欠損値を含むサンプルとそれ以外のサンプルに分割\n",
        "test_data = data[data['EXT_SOURCE_2'].isnull()]\n",
        "train_data = data[~data['EXT_SOURCE_2'].isnull()]\n",
        "\n",
        "# 説明変数と目的変数の分割\n",
        "X_train = train_data.drop('EXT_SOURCE_2', axis=1)\n",
        "y_train = train_data['EXT_SOURCE_2']\n",
        "\n",
        "# ランダムフォレストモデルの作成と学習\n",
        "model = RandomForestRegressor()\n",
        "model.fit(X_train, y_train)\n",
        "\n",
        "# 欠損値を予測\n",
        "X_test = test_data.drop('EXT_SOURCE_2', axis=1)\n",
        "predicted_values = model.predict(X_test)\n",
        "\n",
        "# 欠損値を予測値で埋める\n",
        "data.loc[data['EXT_SOURCE_2'].isnull(), 'EXT_SOURCE_2'] = predicted_values"
      ]
    },
    {
      "cell_type": "code",
      "execution_count": null,
      "metadata": {
        "id": "uoFQexLINIFp"
      },
      "outputs": [],
      "source": [
        "sns.displot(data=data, x=\"EXT_SOURCE_2\")\n",
        "plt.show()\n",
        "train[\"EXT_SOURCE_2\"].mean()"
      ]
    },
    {
      "cell_type": "markdown",
      "metadata": {
        "id": "9lvvanMpQeiD"
      },
      "source": [
        "###EXT_SOURCE_3"
      ]
    },
    {
      "cell_type": "code",
      "execution_count": null,
      "metadata": {
        "id": "-m4pCVE8Qhpm"
      },
      "outputs": [],
      "source": [
        "from sklearn.ensemble import RandomForestRegressor\n",
        "\n",
        "# データセットの読み込み\n",
        "data[\"EXT_SOURCE_3\"] = train[\"EXT_SOURCE_3\"]\n",
        "\n",
        "# 欠損値を含むサンプルとそれ以外のサンプルに分割\n",
        "test_data = data[data['EXT_SOURCE_3'].isnull()]\n",
        "train_data = data[~data['EXT_SOURCE_3'].isnull()]\n",
        "\n",
        "# 説明変数と目的変数の分割\n",
        "X_train = train_data.drop('EXT_SOURCE_3', axis=1)\n",
        "y_train = train_data['EXT_SOURCE_3']\n",
        "\n",
        "# ランダムフォレストモデルの作成と学習\n",
        "model = RandomForestRegressor()\n",
        "model.fit(X_train, y_train)\n",
        "\n",
        "# 欠損値を予測\n",
        "X_test = test_data.drop('EXT_SOURCE_3', axis=1)\n",
        "predicted_values = model.predict(X_test)\n",
        "\n",
        "# 欠損値を予測値で埋める\n",
        "data.loc[data['EXT_SOURCE_3'].isnull(), 'EXT_SOURCE_3'] = predicted_values"
      ]
    },
    {
      "cell_type": "code",
      "execution_count": null,
      "metadata": {
        "colab": {
          "base_uri": "https://localhost:8080/",
          "height": 72
        },
        "id": "rqIH4_qmR00x",
        "outputId": "d69d3649-8bb5-49c4-f3ed-02ae84f5dac7"
      },
      "outputs": [
        {
          "data": {
            "image/png": "[encoded data removed]",
            "text/plain": [
              "<Figure size 500x500 with 1 Axes>"
            ]
          },
          "metadata": {},
          "output_type": "display_data"
        },
        {
          "data": {
            "text/plain": [
              "0.5111771488927159"
            ]
          },
          "execution_count": 26,
          "metadata": {},
          "output_type": "execute_result"
        }
      ],
      "source": [
        "sns.displot(data=data, x=\"EXT_SOURCE_3\")\n",
        "plt.show()\n",
        "train[\"EXT_SOURCE_3\"].mean()"
      ]
    },
    {
      "cell_type": "markdown",
      "metadata": {
        "id": "Ip4vWOWvQ1el"
      },
      "source": [
        "###EXT_SOURCE_1"
      ]
    },
    {
      "cell_type": "code",
      "execution_count": null,
      "metadata": {
        "id": "jX3bqgD6Q44I"
      },
      "outputs": [],
      "source": [
        "from sklearn.ensemble import RandomForestRegressor\n",
        "\n",
        "# データセットの読み込み\n",
        "data[\"EXT_SOURCE_1\"] = train[\"EXT_SOURCE_1\"]\n",
        "\n",
        "# 欠損値を含むサンプルとそれ以外のサンプルに分割\n",
        "test_data = data[data['EXT_SOURCE_1'].isnull()]\n",
        "train_data = data[~data['EXT_SOURCE_1'].isnull()]\n",
        "\n",
        "# 説明変数と目的変数の分割\n",
        "X_train = train_data.drop('EXT_SOURCE_1', axis=1)\n",
        "y_train = train_data['EXT_SOURCE_1']\n",
        "\n",
        "# ランダムフォレストモデルの作成と学習\n",
        "model = RandomForestRegressor()\n",
        "model.fit(X_train, y_train)\n",
        "\n",
        "# 欠損値を予測\n",
        "X_test = test_data.drop('EXT_SOURCE_1', axis=1)\n",
        "predicted_values = model.predict(X_test)\n",
        "\n",
        "# 欠損値を予測値で埋める\n",
        "data.loc[data['EXT_SOURCE_1'].isnull(), 'EXT_SOURCE_1'] = predicted_values"
      ]
    },
    {
      "cell_type": "code",
      "execution_count": null,
      "metadata": {
        "colab": {
          "base_uri": "https://localhost:8080/",
          "height": 524
        },
        "id": "Y_h2fr30Ry-f",
        "outputId": "e659e31d-39fc-49ec-9b70-2164137e33aa"
      },
      "outputs": [
        {
          "data": {
            "image/png": "[encoded data removed]",
            "text/plain": [
              "<Figure size 500x500 with 1 Axes>"
            ]
          },
          "metadata": {},
          "output_type": "display_data"
        },
        {
          "data": {
            "text/plain": [
              "0.5016917304189625"
            ]
          },
          "execution_count": 28,
          "metadata": {},
          "output_type": "execute_result"
        }
      ],
      "source": [
        "sns.displot(data=data, x=\"EXT_SOURCE_1\")\n",
        "plt.show()\n",
        "train[\"EXT_SOURCE_1\"].mean()"
      ]
    },
    {
      "cell_type": "markdown",
      "metadata": {
        "id": "q10I-Yl8sd-V"
      },
      "source": [
        "###データフレーム整理"
      ]
    },
    {
      "cell_type": "code",
      "execution_count": null,
      "metadata": {
        "id": "BTxdz6pcsd-W"
      },
      "outputs": [],
      "source": [
        "test_feature = [ \"AMT_INCOME_TOTAL\",'AMT_CREDIT', 'AMT_ANNUITY', 'AMT_GOODS_PRICE', 'REGION_POPULATION_RELATIVE']\n",
        "train_EXT = train[test_feature]"
      ]
    },
    {
      "cell_type": "markdown",
      "metadata": {
        "id": "neFDNWLxsd-Y"
      },
      "source": [
        "###欠損値埋め"
      ]
    },
    {
      "cell_type": "code",
      "execution_count": null,
      "metadata": {
        "id": "D2whN5XRsd-Y"
      },
      "outputs": [],
      "source": [
        "train_EXT[\"AMT_ANNUITY\"].fillna(train[\"AMT_ANNUITY\"].mean(), inplace=True)\n",
        "train_EXT[\"AMT_GOODS_PRICE\"].fillna(train[\"AMT_GOODS_PRICE\"].mean(), inplace=True)"
      ]
    },
    {
      "cell_type": "markdown",
      "metadata": {
        "id": "jzL-Thfisd-Z"
      },
      "source": [
        "###EXT_SOURCE_2"
      ]
    },
    {
      "cell_type": "code",
      "execution_count": null,
      "metadata": {
        "id": "Mah3-x35sd-b"
      },
      "outputs": [],
      "source": [
        "from sklearn.ensemble import RandomForestRegressor\n",
        "\n",
        "# データセットの読み込み\n",
        "train_EXT[\"EXT_SOURCE_2\"] = train[\"EXT_SOURCE_2\"]\n",
        "data = train_EXT\n",
        "\n",
        "# 欠損値を含むサンプルとそれ以外のサンプルに分割\n",
        "test_data = data[data['EXT_SOURCE_2'].isnull()]\n",
        "train_data = data[~data['EXT_SOURCE_2'].isnull()]\n",
        "\n",
        "# 説明変数と目的変数の分割\n",
        "X_train = train_data.drop('EXT_SOURCE_2', axis=1)\n",
        "y_train = train_data['EXT_SOURCE_2']\n",
        "\n",
        "# ランダムフォレストモデルの作成と学習\n",
        "model = RandomForestRegressor()\n",
        "model.fit(X_train, y_train)\n",
        "\n",
        "# 欠損値を予測\n",
        "X_test = test_data.drop('EXT_SOURCE_2', axis=1)\n",
        "predicted_values = model.predict(X_test)\n",
        "\n",
        "# 欠損値を予測値で埋める\n",
        "data.loc[data['EXT_SOURCE_2'].isnull(), 'EXT_SOURCE_2'] = predicted_values"
      ]
    },
    {
      "cell_type": "code",
      "execution_count": null,
      "metadata": {
        "id": "OhPwsV3ysd-d"
      },
      "outputs": [],
      "source": [
        "sns.displot(data=data, x=\"EXT_SOURCE_2\")\n",
        "plt.show()\n",
        "train[\"EXT_SOURCE_2\"].mean()"
      ]
    },
    {
      "cell_type": "markdown",
      "metadata": {
        "id": "7tQrDAsOsd-d"
      },
      "source": [
        "###EXT_SOURCE_3"
      ]
    },
    {
      "cell_type": "code",
      "execution_count": null,
      "metadata": {
        "id": "0w68pX3Esd-e"
      },
      "outputs": [],
      "source": [
        "from sklearn.ensemble import RandomForestRegressor\n",
        "\n",
        "# データセットの読み込み\n",
        "data[\"EXT_SOURCE_3\"] = train[\"EXT_SOURCE_3\"]\n",
        "\n",
        "# 欠損値を含むサンプルとそれ以外のサンプルに分割\n",
        "test_data = data[data['EXT_SOURCE_3'].isnull()]\n",
        "train_data = data[~data['EXT_SOURCE_3'].isnull()]\n",
        "\n",
        "# 説明変数と目的変数の分割\n",
        "X_train = train_data.drop('EXT_SOURCE_3', axis=1)\n",
        "y_train = train_data['EXT_SOURCE_3']\n",
        "\n",
        "# ランダムフォレストモデルの作成と学習\n",
        "model = RandomForestRegressor()\n",
        "model.fit(X_train, y_train)\n",
        "\n",
        "# 欠損値を予測\n",
        "X_test = test_data.drop('EXT_SOURCE_3', axis=1)\n",
        "predicted_values = model.predict(X_test)\n",
        "\n",
        "# 欠損値を予測値で埋める\n",
        "data.loc[data['EXT_SOURCE_3'].isnull(), 'EXT_SOURCE_3'] = predicted_values"
      ]
    },
    {
      "cell_type": "code",
      "execution_count": null,
      "metadata": {
        "colab": {
          "base_uri": "https://localhost:8080/",
          "height": 72
        },
        "id": "tkW62Y1Usd-e",
        "outputId": "d69d3649-8bb5-49c4-f3ed-02ae84f5dac7"
      },
      "outputs": [
        {
          "data": {
            "image/png": "[encoded data removed]",
            "text/plain": [
              "<Figure size 500x500 with 1 Axes>"
            ]
          },
          "metadata": {},
          "output_type": "display_data"
        },
        {
          "data": {
            "text/plain": [
              "0.5111771488927159"
            ]
          },
          "execution_count": 26,
          "metadata": {},
          "output_type": "execute_result"
        }
      ],
      "source": [
        "sns.displot(data=data, x=\"EXT_SOURCE_3\")\n",
        "plt.show()\n",
        "train[\"EXT_SOURCE_3\"].mean()"
      ]
    },
    {
      "cell_type": "markdown",
      "metadata": {
        "id": "CnuwAINZsd-g"
      },
      "source": [
        "###EXT_SOURCE_1"
      ]
    },
    {
      "cell_type": "code",
      "execution_count": null,
      "metadata": {
        "id": "GrXY9TDEsd-g"
      },
      "outputs": [],
      "source": [
        "from sklearn.ensemble import RandomForestRegressor\n",
        "\n",
        "# データセットの読み込み\n",
        "data[\"EXT_SOURCE_1\"] = train[\"EXT_SOURCE_1\"]\n",
        "\n",
        "# 欠損値を含むサンプルとそれ以外のサンプルに分割\n",
        "test_data = data[data['EXT_SOURCE_1'].isnull()]\n",
        "train_data = data[~data['EXT_SOURCE_1'].isnull()]\n",
        "\n",
        "# 説明変数と目的変数の分割\n",
        "X_train = train_data.drop('EXT_SOURCE_1', axis=1)\n",
        "y_train = train_data['EXT_SOURCE_1']\n",
        "\n",
        "# ランダムフォレストモデルの作成と学習\n",
        "model = RandomForestRegressor()\n",
        "model.fit(X_train, y_train)\n",
        "\n",
        "# 欠損値を予測\n",
        "X_test = test_data.drop('EXT_SOURCE_1', axis=1)\n",
        "predicted_values = model.predict(X_test)\n",
        "\n",
        "# 欠損値を予測値で埋める\n",
        "data.loc[data['EXT_SOURCE_1'].isnull(), 'EXT_SOURCE_1'] = predicted_values"
      ]
    },
    {
      "cell_type": "code",
      "execution_count": null,
      "metadata": {
        "colab": {
          "base_uri": "https://localhost:8080/",
          "height": 524
        },
        "id": "o4hMkL71sd-h",
        "outputId": "e659e31d-39fc-49ec-9b70-2164137e33aa"
      },
      "outputs": [
        {
          "data": {
            "image/png": "[encoded data removed]",
            "text/plain": [
              "<Figure size 500x500 with 1 Axes>"
            ]
          },
          "metadata": {},
          "output_type": "display_data"
        },
        {
          "data": {
            "text/plain": [
              "0.5016917304189625"
            ]
          },
          "execution_count": 28,
          "metadata": {},
          "output_type": "execute_result"
        }
      ],
      "source": [
        "sns.displot(data=data, x=\"EXT_SOURCE_1\")\n",
        "plt.show()\n",
        "train[\"EXT_SOURCE_1\"].mean()"
      ]
    },
    {
      "cell_type": "code",
      "execution_count": null,
      "metadata": {
        "id": "CTTtX87OZGqr"
      },
      "outputs": [],
      "source": [
        "#AMT_REQシリーズの処理\n",
        "AMT_REQ_CREDIT_BUREAU = train.iloc[:, -4:]\n",
        "AMT_REQ_CREDIT_BUREAU[\"AMT_REQ_CREDIT_BUREAU_SUM\"] = AMT_REQ_CREDIT_BUREAU.sum(axis = 1) / 3\n",
        "train_ver1 = train\n",
        "train_ver1[\"AMT_REQ_CREDIT_BUREAU_SUM\"] = AMT_REQ_CREDIT_BUREAU[\"AMT_REQ_CREDIT_BUREAU_SUM\"]\n",
        "\n",
        "#特徴量選択\n",
        "use_features_ver1 = [\"TARGET\",\"NAME_CONTRACT_TYPE\",\"CNT_CHILDREN\",\"AMT_INCOME_TOTAL\",\"AMT_CREDIT\",\"NAME_HOUSING_TYPE\",\"OCCUPATION_TYPE\"\n",
        "                    ,\"REG_REGION_NOT_WORK_REGION\",\"REG_CITY_NOT_WORK_CITY\",\"ORGANIZATION_TYPE\",\"EXT_SOURCE_2\",\n",
        "                    \"AMT_REQ_CREDIT_BUREAU_SUM\"]\n",
        "use_features_ver2 = [\"EXT_SOURCE_1\",\"EXT_SOURCE_3\",\"FLAG_EMP_PHONE\",\"FLAG_WORK_PHONE\",\"FLAG_CONT_MOBILE\",\"FLAG_PHONE\",\"FLAG_EMAIL\",\"OWN_CAR_AGE\"]\n",
        "use_features_ver2.extend(use_features_ver1)\n",
        "use_features_ver3 = [\"DAYS_BIRTH\",\"DAYS_REGISTRATION\",\"DAYS_ID_PUBLISH\",\n",
        "                     \"OBS_30_CNT_SOCIAL_CIRCLE\",\"DEF_30_CNT_SOCIAL_CIRCLE\"]\n",
        "use_features_ver3.extend(use_features_ver2)\n",
        "use_features_ver4 = [\"CODE_GENDER\",\"REGION_RATING_CLIENT\",\"DAYS_EMPLOYED\",\"CNT_FAM_MEMBERS\",\"AMT_ANNUITY\",\n",
        "                     \"AMT_GOODS_PRICE\"]\n",
        "use_features_ver4.extend(use_features_ver3)\n",
        "train_ver5 = train_ver1[use_features_ver4]\n",
        "\n",
        "#EXT_SOURCEの処理\n",
        "train_ver5[\"EXT_SOURCE_SUM\"] = 0.2*train_ver5[\"EXT_SOURCE_1\"] + 0.5*train_ver5[\"EXT_SOURCE_2\"] + 0.3*train_ver5[\"EXT_SOURCE_3\"]\n",
        "drop_feature = [\"EXT_SOURCE_1\",\"EXT_SOURCE_3\"]\n",
        "train_ver5 = train_ver5.drop(drop_feature,axis = 1)\n",
        "\n",
        "#追加の特徴量\n",
        "train_ver5['DAYS_EMPLOYED_PERC'] = train_ver5['DAYS_EMPLOYED'] / train_ver5['DAYS_BIRTH']\n",
        "train_ver5['INCOME_CREDIT_PERC'] = train_ver5['AMT_INCOME_TOTAL'] / train_ver5['AMT_CREDIT']\n",
        "train_ver5['INCOME_PER_PERSON'] = train_ver5['AMT_INCOME_TOTAL'] / train_ver5['CNT_FAM_MEMBERS']\n",
        "train_ver5['ANNUITY_INCOME_PERC'] = train_ver5['AMT_ANNUITY'] / train_ver5['AMT_INCOME_TOTAL']\n",
        "train_ver5['PAYMENT_RATE'] = train_ver5['AMT_ANNUITY'] / train_ver5['AMT_CREDIT']\n",
        "train_ver5['credit_goods_price_rate'] = train_ver5['AMT_CREDIT'] / train_ver5['AMT_GOODS_PRICE']\n",
        "train_ver5['credit_downpayment'] = train_ver5['AMT_GOODS_PRICE'] - train_ver5['AMT_CREDIT']\n",
        "train_ver5['AGE_INT'] = int(train_ver5[\"DAYS_BIRTH\"]/-365)\n",
        "\n",
        "\n",
        "drop_feature = [\"DAYS_EMPLOYED\",\"CNT_FAM_MEMBERS\",\"AMT_CREDIT\",\"AMT_ANNUITY\",\"DAYS_BIRTH\",\"AMT_GOODS_PRICE\",\n",
        "                \"AMT_INCOME_TOTAL\"]\n",
        "train_ver5 = train_ver5.drop(drop_feature,axis = 1)\n",
        "#確定\n",
        "train_transformed = train_ver5"
      ]
    },
    {
      "cell_type": "markdown",
      "metadata": {
        "id": "cuatgEDXWD5x"
      },
      "source": [
        "##testデータのEXT加工\n"
      ]
    },
    {
      "cell_type": "code",
      "execution_count": null,
      "metadata": {
        "id": "g208PS2PS0vT"
      },
      "outputs": [],
      "source": [
        "test_feature = [ \"AMT_INCOME_TOTAL\",'AMT_CREDIT', 'AMT_ANNUITY', 'AMT_GOODS_PRICE', 'REGION_POPULATION_RELATIVE']\n",
        "test_EXT = test[test_feature]\n",
        "test_EXT[\"AMT_ANNUITY\"].fillna(test[\"AMT_ANNUITY\"].mean(), inplace=True)\n",
        "test_EXT[\"AMT_GOODS_PRICE\"].fillna(test[\"AMT_GOODS_PRICE\"].mean(), inplace=True)"
      ]
    },
    {
      "cell_type": "markdown",
      "metadata": {
        "id": "9P0OnoWecY96"
      },
      "source": [
        "###testデータEXT処理"
      ]
    },
    {
      "cell_type": "code",
      "execution_count": null,
      "metadata": {
        "id": "qDCez-_6S0vV"
      },
      "outputs": [],
      "source": [
        "from sklearn.ensemble import RandomForestRegressor\n",
        "\n",
        "# データセットの読み込み\n",
        "test_EXT[\"EXT_SOURCE_2\"] = test[\"EXT_SOURCE_2\"]\n",
        "data = test_EXT\n",
        "\n",
        "# 欠損値を含むサンプルとそれ以外のサンプルに分割\n",
        "test_data = data[data['EXT_SOURCE_2'].isnull()]\n",
        "train_data = data[~data['EXT_SOURCE_2'].isnull()]\n",
        "\n",
        "# 説明変数と目的変数の分割\n",
        "X_train = train_data.drop('EXT_SOURCE_2', axis=1)\n",
        "y_train = train_data['EXT_SOURCE_2']\n",
        "\n",
        "# ランダムフォレストモデルの作成と学習\n",
        "model = RandomForestRegressor()\n",
        "model.fit(X_train, y_train)\n",
        "\n",
        "# 欠損値を予測\n",
        "X_test = test_data.drop('EXT_SOURCE_2', axis=1)\n",
        "predicted_values = model.predict(X_test)\n",
        "\n",
        "# 欠損値を予測値で埋める\n",
        "data.loc[data['EXT_SOURCE_2'].isnull(), 'EXT_SOURCE_2'] = predicted_values"
      ]
    },
    {
      "cell_type": "code",
      "execution_count": null,
      "metadata": {
        "id": "UTbrSa17S0vW"
      },
      "outputs": [],
      "source": [
        "from sklearn.ensemble import RandomForestRegressor\n",
        "\n",
        "# データセットの読み込み\n",
        "data[\"EXT_SOURCE_3\"] = test[\"EXT_SOURCE_3\"]\n",
        "\n",
        "# 欠損値を含むサンプルとそれ以外のサンプルに分割\n",
        "test_data = data[data['EXT_SOURCE_3'].isnull()]\n",
        "train_data = data[~data['EXT_SOURCE_3'].isnull()]\n",
        "\n",
        "# 説明変数と目的変数の分割\n",
        "X_train = train_data.drop('EXT_SOURCE_3', axis=1)\n",
        "y_train = train_data['EXT_SOURCE_3']\n",
        "\n",
        "# ランダムフォレストモデルの作成と学習\n",
        "model = RandomForestRegressor()\n",
        "model.fit(X_train, y_train)\n",
        "\n",
        "# 欠損値を予測\n",
        "X_test = test_data.drop('EXT_SOURCE_3', axis=1)\n",
        "predicted_values = model.predict(X_test)\n",
        "\n",
        "# 欠損値を予測値で埋める\n",
        "data.loc[data['EXT_SOURCE_3'].isnull(), 'EXT_SOURCE_3'] = predicted_values"
      ]
    },
    {
      "cell_type": "code",
      "execution_count": null,
      "metadata": {
        "id": "SrR4P-SVS0vX"
      },
      "outputs": [],
      "source": [
        "from sklearn.ensemble import RandomForestRegressor\n",
        "\n",
        "# データセットの読み込み\n",
        "data[\"EXT_SOURCE_1\"] = test[\"EXT_SOURCE_1\"]\n",
        "\n",
        "# 欠損値を含むサンプルとそれ以外のサンプルに分割\n",
        "test_data = data[data['EXT_SOURCE_1'].isnull()]\n",
        "train_data = data[~data['EXT_SOURCE_1'].isnull()]\n",
        "\n",
        "# 説明変数と目的変数の分割\n",
        "X_train = train_data.drop('EXT_SOURCE_1', axis=1)\n",
        "y_train = train_data['EXT_SOURCE_1']\n",
        "\n",
        "# ランダムフォレストモデルの作成と学習\n",
        "model = RandomForestRegressor()\n",
        "model.fit(X_train, y_train)\n",
        "\n",
        "# 欠損値を予測\n",
        "X_test = test_data.drop('EXT_SOURCE_1', axis=1)\n",
        "predicted_values = model.predict(X_test)\n",
        "\n",
        "# 欠損値を予測値で埋める\n",
        "data.loc[data['EXT_SOURCE_1'].isnull(), 'EXT_SOURCE_1'] = predicted_values"
      ]
    },
    {
      "cell_type": "markdown",
      "metadata": {
        "id": "tv2Evdpz7Zap"
      },
      "source": [
        "## Dataset"
      ]
    },
    {
      "cell_type": "code",
      "execution_count": 9,
      "metadata": {
        "id": "g5oLrGJVtFyo"
      },
      "outputs": [],
      "source": [
        "#AMT_REQシリーズの処理\n",
        "AMT_REQ_CREDIT_BUREAU = train.iloc[:, -4:]\n",
        "AMT_REQ_CREDIT_BUREAU[\"AMT_REQ_CREDIT_BUREAU_SUM\"] = AMT_REQ_CREDIT_BUREAU.sum(axis = 1) / 3\n",
        "train_ver1 = train\n",
        "train_ver1[\"AMT_REQ_CREDIT_BUREAU_SUM\"] = AMT_REQ_CREDIT_BUREAU[\"AMT_REQ_CREDIT_BUREAU_SUM\"]\n",
        "\n",
        "#特徴量選択\n",
        "use_features_ver1 = [\"TARGET\",\"NAME_CONTRACT_TYPE\",\"CNT_CHILDREN\",\"AMT_INCOME_TOTAL\",\"AMT_CREDIT\",\"NAME_HOUSING_TYPE\",\n",
        "                     \"OCCUPATION_TYPE\",\"REG_REGION_NOT_WORK_REGION\",\"REG_CITY_NOT_WORK_CITY\",\"ORGANIZATION_TYPE\",\n",
        "                     \"EXT_SOURCE_2\",\"AMT_REQ_CREDIT_BUREAU_SUM\",\"AMT_REQ_CREDIT_BUREAU_HOUR\"\n",
        "                     ,\"AMT_REQ_CREDIT_BUREAU_MON\",\"AMT_REQ_CREDIT_BUREAU_QRT\",\"AMT_REQ_CREDIT_BUREAU_YEAR\"]\n",
        "use_features_ver2 = [\"EXT_SOURCE_1\",\"EXT_SOURCE_3\",\"FLAG_EMP_PHONE\",\"FLAG_WORK_PHONE\",\"FLAG_CONT_MOBILE\",\"FLAG_PHONE\",\n",
        "                     \"FLAG_EMAIL\",\"OWN_CAR_AGE\"]\n",
        "use_features_ver2.extend(use_features_ver1)\n",
        "use_features_ver3 = [\"DAYS_BIRTH\",\"DAYS_REGISTRATION\",\"DAYS_ID_PUBLISH\",\n",
        "                     \"OBS_30_CNT_SOCIAL_CIRCLE\",\"DEF_30_CNT_SOCIAL_CIRCLE\"]\n",
        "use_features_ver3.extend(use_features_ver2)\n",
        "use_features_ver4 = [\"CODE_GENDER\",\"REGION_RATING_CLIENT\",\"DAYS_EMPLOYED\",\"CNT_FAM_MEMBERS\",\"AMT_ANNUITY\",\n",
        "                     \"AMT_GOODS_PRICE\"]\n",
        "use_features_ver4.extend(use_features_ver3)\n",
        "use_features_ver5 = [\"FLAG_OWN_CAR\",\"FLAG_OWN_REALTY\",\"NAME_TYPE_SUITE\",\"NAME_FAMILY_STATUS\",\"REGION_POPULATION_RELATIVE\",\n",
        "                     \"REGION_RATING_CLIENT_W_CITY\",\"REG_REGION_NOT_LIVE_REGION\",\"DAYS_LAST_PHONE_CHANGE\"]\n",
        "use_features_ver5.extend(use_features_ver4)\n",
        "use_features_ver6 = [\"FLAG_CONT_MOBILE\",\"REGION_RATING_CLIENT_W_CITY\",\"REG_REGION_NOT_LIVE_REGION\",\"LIVE_CITY_NOT_WORK_CITY\",\n",
        "                     \"OBS_60_CNT_SOCIAL_CIRCLE\",\"DEF_60_CNT_SOCIAL_CIRCLE\"]\n",
        "use_features_ver6.extend(use_features_ver5)\n",
        "train_ver6 = train_ver1[use_features_ver6]\n",
        "\n",
        "#確定\n",
        "train_transformed = train_ver6\n",
        "\n",
        "#One-hot-encoding\n",
        "def one_hot_encode(df, column):\n",
        "    one_hot = pd.get_dummies(df[column]).add_prefix(column + '_')\n",
        "    df = pd.concat([df, one_hot], axis=1)\n",
        "    df.drop(column, axis=1, inplace=True)\n",
        "    return df\n",
        "\n",
        "#NAME_CONTRACT_TYPEの変換\n",
        "train_transformed[\"NAME_CONTRACT_TYPE\"].replace({'Cash loans': 0, 'Revolving loans': 1}, inplace=True)\n",
        "#NAME_HOUSING_TYPE⇒「With parents」と「Rented」の確率が高いとみて，１とする．それ以外を０と変換\n",
        "train_transformed[\"NAME_HOUSING_TYPE\"].replace({'Co-op apartment': 0, 'House / apartment': 0,'Municipal apartment': 0\n",
        "                                         ,'Office apartment': 0,'Rented apartment': 1,'With parents': 1}, inplace=True)\n",
        "#OCCUPATION_TYPE⇒高確率の場合2，中確率のとき1,低確率のとき０\n",
        "train_transformed[\"OCCUPATION_TYPE\"].replace({'Cooking staff': 1, 'Drivers': 1,'Laborers': 1,'Cleaning staff':1,'Sales staff':1,\n",
        "                                         'Low-skill Laborers': 1,'Security staff': 1,'Waiters/barmen staff': 1}, inplace=True)\n",
        "train_transformed[\"OCCUPATION_TYPE\"] = pd.to_numeric(train_transformed[\"OCCUPATION_TYPE\"], errors='coerce').fillna(0)\n",
        "#CNT_CHILDRENの01変換\n",
        "train_transformed['CNT_CHILDREN'] = train_transformed['CNT_CHILDREN'].apply(lambda x: 0 if x == 0 else 1)\n",
        "#NAME_FAMILY_STATUSの01変換\n",
        "train_transformed['NAME_FAMILY_STATUS'] = train_transformed['NAME_FAMILY_STATUS'].apply(lambda x: 0 if x == 'Married' else 1)\n",
        "#ORGANIZATION_TYPEの数値化（Count Encoding）\n",
        "organization_ce = train_ver1[\"ORGANIZATION_TYPE\"].value_counts()\n",
        "train_transformed[\"ORGANIZATION_TYPE\"]=train_transformed[\"ORGANIZATION_TYPE\"].map(organization_ce)\n",
        "#穴埋め\n",
        "train_transformed[\"CODE_GENDER\"] = train_transformed[\"CODE_GENDER\"].replace('XNA', np.nan).fillna('F')\n",
        "#Onehotencoding\n",
        "train_transformed = one_hot_encode(train_transformed,\"CODE_GENDER\")\n",
        "train_transformed = one_hot_encode(train_transformed,\"FLAG_OWN_CAR\")\n",
        "train_transformed = one_hot_encode(train_transformed,\"FLAG_OWN_REALTY\")\n",
        "train_transformed = one_hot_encode(train_transformed,\"NAME_TYPE_SUITE\")\n",
        "train_transformed = one_hot_encode(train_transformed,\"REGION_RATING_CLIENT_W_CITY\")\n",
        "train_transformed = one_hot_encode(train_transformed,\"REG_REGION_NOT_LIVE_REGION\")\n",
        "train_transformed['DAYS_BIRTH_365_OWN_CAR_AGE'] = (train_transformed['DAYS_BIRTH'] / -365) - train_transformed['OWN_CAR_AGE']\n",
        "# OWN_CAR_AGEの60以上の値（外れ値）を欠損値扱いする\n",
        "train_transformed.loc[train_transformed[\"OWN_CAR_AGE\"] >= 60, \"OWN_CAR_AGE\"] = np.nan\n",
        "train_transformed[\"OWN_CAR_AGE\"] = train_transformed[\"OWN_CAR_AGE\"] // 10\n",
        "train_transformed = one_hot_encode(train_transformed,\"OWN_CAR_AGE\")\n",
        "#DAYS_EMPLOYEDの外れ値処理\n",
        "train_transformed['DAYS_EMPLOYED'].replace(365243, np.nan, inplace=True)\n",
        "\n",
        "#追加の特徴量\n",
        "train_transformed['DAYS_EMPLOYED_PERC'] = train_transformed['DAYS_EMPLOYED'] / train_transformed['DAYS_BIRTH']\n",
        "train_transformed['INCOME_CREDIT_PERC'] = train_transformed['AMT_INCOME_TOTAL'] / train_transformed['AMT_CREDIT']\n",
        "train_transformed['INCOME_PER_PERSON'] = train_transformed['AMT_INCOME_TOTAL'] / train_transformed['CNT_FAM_MEMBERS']\n",
        "train_transformed['ANNUITY_INCOME_PERC'] = train_transformed['AMT_ANNUITY'] / train_transformed['AMT_INCOME_TOTAL']\n",
        "train_transformed['PAYMENT_RATE'] = train_transformed['AMT_ANNUITY'] / train_transformed['AMT_CREDIT']\n",
        "train_transformed['credit_goods_price_rate'] = train_transformed['AMT_CREDIT'] / train_transformed['AMT_GOODS_PRICE']\n",
        "train_transformed['credit_downpayment'] = train_transformed['AMT_GOODS_PRICE'] - train_transformed['AMT_CREDIT']\n",
        "train_transformed['DAYS_EMPLOYED'] = train_transformed[\"DAYS_EMPLOYED\"]/-365\n",
        "train_transformed['DAYS_BIRTH'] = train_transformed[\"DAYS_BIRTH\"]/-365\n",
        "train_transformed['DAYS_ID_PUBLISH'] = train_transformed[\"DAYS_ID_PUBLISH\"]/-365\n",
        "train_transformed['DAYS_REGISTRATION'] = train_transformed[\"DAYS_REGISTRATION\"]/-365\n",
        "train_transformed['DAYS_LAST_PHONE_CHANGE'] = train_transformed[\"DAYS_LAST_PHONE_CHANGE\"]/-365\n",
        "train_transformed[\"INT_SUM\"] = (train_transformed['DAYS_EMPLOYED']+train_transformed['DAYS_BIRTH']\n",
        "                      +train_transformed['DAYS_ID_PUBLISH']+train_transformed['DAYS_REGISTRATION']+train_transformed['DAYS_LAST_PHONE_CHANGE']) / 5\n",
        "train_transformed['OBS_30_60'] = (train_transformed['OBS_30_CNT_SOCIAL_CIRCLE'] + train_transformed['OBS_60_CNT_SOCIAL_CIRCLE']) / 2\n",
        "train_transformed['OBS_DEF_30'] = (train_transformed['OBS_30_CNT_SOCIAL_CIRCLE'] + train_transformed['DEF_30_CNT_SOCIAL_CIRCLE']) / 2\n",
        "train_transformed['DEF_30_60'] = (train_transformed['DEF_30_CNT_SOCIAL_CIRCLE'] + train_transformed['DEF_60_CNT_SOCIAL_CIRCLE']) / 2\n",
        "train_transformed['OBS_DEF_60'] = (train_transformed['OBS_60_CNT_SOCIAL_CIRCLE'] + train_transformed['DEF_60_CNT_SOCIAL_CIRCLE']) / 2\n",
        "train_transformed['OBS_DEF'] = (train_transformed['OBS_30_CNT_SOCIAL_CIRCLE'] + train_transformed['OBS_60_CNT_SOCIAL_CIRCLE']+\n",
        "                                train_transformed['DEF_30_CNT_SOCIAL_CIRCLE'] + train_transformed['DEF_60_CNT_SOCIAL_CIRCLE']) / 4\n",
        "train_transformed['EXT_23_mean'] = (train_transformed['EXT_SOURCE_2'] + train_transformed['EXT_SOURCE_3']) / 2\n",
        "train_transformed['EXT_12_mean'] = (train_transformed['EXT_SOURCE_1'] + train_transformed['EXT_SOURCE_2']) / 2\n",
        "train_transformed['EXT_13_mean'] = (train_transformed['EXT_SOURCE_1'] + train_transformed['EXT_SOURCE_3']) / 2\n",
        "train_transformed['EXT_23_delta'] = abs(train_transformed['EXT_SOURCE_2'] - train_transformed['EXT_SOURCE_3'])\n",
        "train_transformed['EXT_12_delta'] = abs(train_transformed['EXT_SOURCE_1'] - train_transformed['EXT_SOURCE_2'])\n",
        "train_transformed['EXT_13_delta'] = abs(train_transformed['EXT_SOURCE_1'] - train_transformed['EXT_SOURCE_3'])\n",
        "train_transformed['EXT_mean'] = (train_transformed['EXT_SOURCE_1'] + train_transformed['EXT_SOURCE_2']+train_transformed['EXT_SOURCE_3']) / 3\n",
        "train_transformed['EXT_SOURCE_null'] = np.where(train_transformed['EXT_SOURCE_1'].isnull() & train_transformed['EXT_SOURCE_2'].isnull() & train_transformed['EXT_SOURCE_3'].isnull(), 1, 0)"
      ]
    },
    {
      "cell_type": "code",
      "execution_count": 10,
      "metadata": {
        "id": "KRwzac2RWJN0"
      },
      "outputs": [],
      "source": [
        "#特徴量選択\n",
        "use_features_ver1 = [\"NAME_CONTRACT_TYPE\",\"CNT_CHILDREN\",\"AMT_INCOME_TOTAL\",\"AMT_CREDIT\",\"NAME_HOUSING_TYPE\",\n",
        "                     \"OCCUPATION_TYPE\",\"REG_REGION_NOT_WORK_REGION\",\"REG_CITY_NOT_WORK_CITY\",\"ORGANIZATION_TYPE\",\n",
        "                     \"EXT_SOURCE_2\",\"AMT_REQ_CREDIT_BUREAU_HOUR\",\"AMT_REQ_CREDIT_BUREAU_MON\",\"AMT_REQ_CREDIT_BUREAU_QRT\"\n",
        "                     ,\"AMT_REQ_CREDIT_BUREAU_YEAR\"]\n",
        "use_features_ver2 = [\"EXT_SOURCE_1\",\"EXT_SOURCE_3\",\"FLAG_EMP_PHONE\",\"FLAG_WORK_PHONE\",\"FLAG_CONT_MOBILE\",\"FLAG_PHONE\",\"FLAG_EMAIL\",\"OWN_CAR_AGE\"]\n",
        "use_features_ver3 = [\"DAYS_BIRTH\",\"DAYS_REGISTRATION\",\"DAYS_ID_PUBLISH\",\n",
        "                     \"OBS_30_CNT_SOCIAL_CIRCLE\",\"DEF_30_CNT_SOCIAL_CIRCLE\"]\n",
        "use_features_ver4 = [\"CODE_GENDER\",\"REGION_RATING_CLIENT\",\"DAYS_EMPLOYED\",\"CNT_FAM_MEMBERS\",\"AMT_ANNUITY\",\"AMT_GOODS_PRICE\"]\n",
        "use_features_ver5 = [\"FLAG_OWN_CAR\",\"FLAG_OWN_REALTY\",\"NAME_TYPE_SUITE\",\"NAME_FAMILY_STATUS\",\"REGION_POPULATION_RELATIVE\",\n",
        "                     \"REGION_RATING_CLIENT_W_CITY\",\"REG_REGION_NOT_LIVE_REGION\",\"DAYS_LAST_PHONE_CHANGE\"]\n",
        "use_features_ver6 =  [\"FLAG_CONT_MOBILE\",\"REGION_RATING_CLIENT_W_CITY\",\"REG_REGION_NOT_LIVE_REGION\",\"LIVE_CITY_NOT_WORK_CITY\",\n",
        "                     \"OBS_60_CNT_SOCIAL_CIRCLE\",\"DEF_60_CNT_SOCIAL_CIRCLE\"]\n",
        "use_features_ver2.extend(use_features_ver1)\n",
        "use_features_ver3.extend(use_features_ver2)\n",
        "use_features_ver4.extend(use_features_ver3)\n",
        "use_features_ver5.extend(use_features_ver4)\n",
        "use_features_ver6.extend(use_features_ver5)\n",
        "test_transformed = test[use_features_ver6]\n",
        "\n",
        "#AMT_REQ_CREDIT_BUREAUの処理\n",
        "AMT_REQ_CREDIT_BUREAU = test.iloc[:, -4:]\n",
        "AMT_REQ_CREDIT_BUREAU[\"AMT_REQ_CREDIT_BUREAU_SUM\"] = AMT_REQ_CREDIT_BUREAU.sum(axis = 1)\n",
        "test_transformed[\"AMT_REQ_CREDIT_BUREAU_SUM\"] = AMT_REQ_CREDIT_BUREAU[\"AMT_REQ_CREDIT_BUREAU_SUM\"]\n",
        "#NAME_CONTRACT_TYPEの変換\n",
        "test_transformed[\"NAME_CONTRACT_TYPE\"].replace({'Cash loans': 0, 'Revolving loans': 1}, inplace=True)\n",
        "#NAME_HOUSING_TYPE⇒「With parents」と「Rented」の確率が高いとみて，１とする．それ以外を０と変換\n",
        "test_transformed[\"NAME_HOUSING_TYPE\"].replace({'Co-op apartment': 0, 'House / apartment': 0,'Municipal apartment': 0\n",
        "                                         ,'Office apartment': 0,'Rented apartment': 1,'With parents': 1}, inplace=True)\n",
        "#OCCUPATION_TYPE⇒高確率の場合2，中確率のとき1,低確率のとき０\n",
        "test_transformed[\"OCCUPATION_TYPE\"].replace({'Cooking staff': 1, 'Drivers': 1,'Laborers': 1,'Cleaning staff':1,'Sales staff':1,\n",
        "                                         'Low-skill Laborers': 1,'Security staff': 1,'Waiters/barmen staff': 1}, inplace=True)\n",
        "test_transformed[\"OCCUPATION_TYPE\"] = pd.to_numeric(test_transformed[\"OCCUPATION_TYPE\"], errors='coerce').fillna(0)\n",
        "#ORGANIZATION_TYPEの数値化（Count Encoding）\n",
        "organization_ce = test_transformed[\"ORGANIZATION_TYPE\"].value_counts()\n",
        "test_transformed[\"ORGANIZATION_TYPE\"]=test_transformed[\"ORGANIZATION_TYPE\"].map(organization_ce)\n",
        "#穴埋め\n",
        "test_transformed[\"CODE_GENDER\"] = test_transformed[\"CODE_GENDER\"].replace('XNA', np.nan).fillna('F')\n",
        "#CNT_CHILDRENの変換\n",
        "test_transformed['CNT_CHILDREN'] = test_transformed['CNT_CHILDREN'].apply(lambda x: 0 if x == 0 else 1)\n",
        "#NAME_FAMILY_STATUSの01変換\n",
        "test_transformed['NAME_FAMILY_STATUS'] = test_transformed['NAME_FAMILY_STATUS'].apply(lambda x: 0 if x == 'Married' else 1)\n",
        "#onehotencoding\n",
        "test_transformed = one_hot_encode(test_transformed, \"CODE_GENDER\")\n",
        "test_transformed = one_hot_encode(test_transformed, \"FLAG_OWN_CAR\")\n",
        "test_transformed = one_hot_encode(test_transformed, \"FLAG_OWN_REALTY\")\n",
        "test_transformed = one_hot_encode(test_transformed, \"NAME_TYPE_SUITE\")\n",
        "test_transformed = one_hot_encode(test_transformed, \"REGION_RATING_CLIENT_W_CITY\")\n",
        "test_transformed = one_hot_encode(test_transformed, \"REG_REGION_NOT_LIVE_REGION\")\n",
        "test_transformed['DAYS_BIRTH_365_OWN_CAR_AGE'] = (test_transformed['DAYS_BIRTH'] / 365) - test_transformed['OWN_CAR_AGE']\n",
        "#OWN_CAR_AGEの変換\n",
        "test_transformed.loc[test_transformed[\"OWN_CAR_AGE\"] >= 60, \"OWN_CAR_AGE\"] = np.nan\n",
        "test_transformed[\"OWN_CAR_AGE\"] = test_transformed[\"OWN_CAR_AGE\"] // 10\n",
        "test_car_age_ohe = pd.get_dummies(test_transformed[\"OWN_CAR_AGE\"]).add_prefix(\"OWN_CAR_AGE_\")\n",
        "test_transformed = pd.concat([test_transformed, test_car_age_ohe], axis=1)\n",
        "test_transformed.drop('OWN_CAR_AGE', axis=1, inplace=True)\n",
        "#DAYS_EMPLOYEDの外れ値処理\n",
        "test_transformed['DAYS_EMPLOYED'].replace(365243, np.nan, inplace=True)\n",
        "\n",
        "#追加の特徴量\n",
        "test_transformed['DAYS_EMPLOYED_PERC'] = test_transformed['DAYS_EMPLOYED'] / test_transformed['DAYS_BIRTH']\n",
        "test_transformed['INCOME_CREDIT_PERC'] = test_transformed['AMT_INCOME_TOTAL'] / test_transformed['AMT_CREDIT']\n",
        "test_transformed['INCOME_PER_PERSON'] = test_transformed['AMT_INCOME_TOTAL'] / test_transformed['CNT_FAM_MEMBERS']\n",
        "test_transformed['ANNUITY_INCOME_PERC'] = test_transformed['AMT_ANNUITY'] / test_transformed['AMT_INCOME_TOTAL']\n",
        "test_transformed['PAYMENT_RATE'] = test_transformed['AMT_ANNUITY'] / test_transformed['AMT_CREDIT']\n",
        "test_transformed['credit_goods_price_rate'] = test_transformed['AMT_CREDIT'] / test_transformed['AMT_GOODS_PRICE']\n",
        "test_transformed['credit_downpayment'] = test_transformed['AMT_GOODS_PRICE'] - test_transformed['AMT_CREDIT']\n",
        "test_transformed['DAYS_EMPLOYED'] = test_transformed[\"DAYS_EMPLOYED\"]/-365\n",
        "test_transformed['DAYS_BIRTH'] = test_transformed[\"DAYS_BIRTH\"]/-365\n",
        "test_transformed['DAYS_ID_PUBLISH'] = test_transformed[\"DAYS_ID_PUBLISH\"]/-365\n",
        "test_transformed['DAYS_REGISTRATION'] = test_transformed[\"DAYS_REGISTRATION\"]/-365\n",
        "test_transformed['DAYS_LAST_PHONE_CHANGE'] = test_transformed[\"DAYS_LAST_PHONE_CHANGE\"]/-365\n",
        "test_transformed[\"INT_mean\"] = (test_transformed['DAYS_EMPLOYED'] + test_transformed['DAYS_BIRTH']\n",
        "                      +test_transformed['DAYS_ID_PUBLISH'] + test_transformed['DAYS_REGISTRATION'] + test_transformed['DAYS_LAST_PHONE_CHANGE']) / 5\n",
        "test_transformed['OBS_30_60'] = (test_transformed['OBS_30_CNT_SOCIAL_CIRCLE'] +test_transformed['OBS_60_CNT_SOCIAL_CIRCLE']) / 2\n",
        "test_transformed['OBS_DEF_30'] = (test_transformed['OBS_30_CNT_SOCIAL_CIRCLE'] +test_transformed['DEF_30_CNT_SOCIAL_CIRCLE']) / 2\n",
        "test_transformed['DEF_30_60'] = (test_transformed['DEF_30_CNT_SOCIAL_CIRCLE'] +test_transformed['DEF_60_CNT_SOCIAL_CIRCLE']) / 2\n",
        "test_transformed['OBS_DEF_60'] = (test_transformed['OBS_60_CNT_SOCIAL_CIRCLE'] +test_transformed['DEF_60_CNT_SOCIAL_CIRCLE']) / 2\n",
        "test_transformed['OBS_DEF'] = (test_transformed['OBS_30_CNT_SOCIAL_CIRCLE'] +test_transformed['OBS_60_CNT_SOCIAL_CIRCLE'] +\n",
        "                               test_transformed['DEF_30_CNT_SOCIAL_CIRCLE'] +test_transformed['DEF_60_CNT_SOCIAL_CIRCLE']) / 4\n",
        "test_transformed['EXT_23_mean'] = (test_transformed['EXT_SOURCE_2'] + test_transformed['EXT_SOURCE_3']) / 2\n",
        "test_transformed['EXT_12_mean'] = (test_transformed['EXT_SOURCE_1'] + test_transformed['EXT_SOURCE_2']) / 2\n",
        "test_transformed['EXT_13_mean'] = (test_transformed['EXT_SOURCE_1'] + test_transformed['EXT_SOURCE_3']) / 2\n",
        "test_transformed['EXT_23_delta'] = abs(test_transformed['EXT_SOURCE_2'] - test_transformed['EXT_SOURCE_3'])\n",
        "test_transformed['EXT_12_delta'] = abs(test_transformed['EXT_SOURCE_1'] - test_transformed['EXT_SOURCE_2'])\n",
        "test_transformed['EXT_13_delta'] = abs(test_transformed['EXT_SOURCE_1'] - test_transformed['EXT_SOURCE_3'])\n",
        "test_transformed['EXT_mean'] = (test_transformed['EXT_SOURCE_1'] + test_transformed['EXT_SOURCE_3']+test_transformed['EXT_SOURCE_3']) / 3\n",
        "test_transformed['EXT_SOURCE_null'] = np.where(test_transformed['EXT_SOURCE_1'].isnull() & test_transformed['EXT_SOURCE_2'].isnull() & test_transformed['EXT_SOURCE_3'].isnull(), 1, 0)"
      ]
    },
    {
      "cell_type": "markdown",
      "metadata": {
        "id": "uUXyHM1tBgoX"
      },
      "source": [
        "##標準化と対数変換"
      ]
    },
    {
      "cell_type": "code",
      "execution_count": null,
      "metadata": {
        "id": "fZRvmbuJBdIz",
        "colab": {
          "base_uri": "https://localhost:8080/",
          "height": 447
        },
        "outputId": "69f4a21f-098c-4f88-c1aa-dba1c7cbccd7"
      },
      "outputs": [
        {
          "output_type": "error",
          "ename": "KeyError",
          "evalue": "ignored",
          "traceback": [
            "\u001b[0;31m---------------------------------------------------------------------------\u001b[0m",
            "\u001b[0;31mKeyError\u001b[0m                                  Traceback (most recent call last)",
            "\u001b[0;32m/usr/local/lib/python3.10/dist-packages/pandas/core/indexes/base.py\u001b[0m in \u001b[0;36mget_loc\u001b[0;34m(self, key, method, tolerance)\u001b[0m\n\u001b[1;32m   3801\u001b[0m             \u001b[0;32mtry\u001b[0m\u001b[0;34m:\u001b[0m\u001b[0;34m\u001b[0m\u001b[0;34m\u001b[0m\u001b[0m\n\u001b[0;32m-> 3802\u001b[0;31m                 \u001b[0;32mreturn\u001b[0m \u001b[0mself\u001b[0m\u001b[0;34m.\u001b[0m\u001b[0m_engine\u001b[0m\u001b[0;34m.\u001b[0m\u001b[0mget_loc\u001b[0m\u001b[0;34m(\u001b[0m\u001b[0mcasted_key\u001b[0m\u001b[0;34m)\u001b[0m\u001b[0;34m\u001b[0m\u001b[0;34m\u001b[0m\u001b[0m\n\u001b[0m\u001b[1;32m   3803\u001b[0m             \u001b[0;32mexcept\u001b[0m \u001b[0mKeyError\u001b[0m \u001b[0;32mas\u001b[0m \u001b[0merr\u001b[0m\u001b[0;34m:\u001b[0m\u001b[0;34m\u001b[0m\u001b[0;34m\u001b[0m\u001b[0m\n",
            "\u001b[0;32m/usr/local/lib/python3.10/dist-packages/pandas/_libs/index.pyx\u001b[0m in \u001b[0;36mpandas._libs.index.IndexEngine.get_loc\u001b[0;34m()\u001b[0m\n",
            "\u001b[0;32m/usr/local/lib/python3.10/dist-packages/pandas/_libs/index.pyx\u001b[0m in \u001b[0;36mpandas._libs.index.IndexEngine.get_loc\u001b[0;34m()\u001b[0m\n",
            "\u001b[0;32m/usr/local/lib/python3.10/dist-packages/pandas/_libs/index.pyx\u001b[0m in \u001b[0;36mpandas._libs.index.IndexEngine._get_loc_duplicates\u001b[0;34m()\u001b[0m\n",
            "\u001b[0;32m/usr/local/lib/python3.10/dist-packages/pandas/_libs/index.pyx\u001b[0m in \u001b[0;36mpandas._libs.index.IndexEngine._maybe_get_bool_indexer\u001b[0;34m()\u001b[0m\n",
            "\u001b[0;32m/usr/local/lib/python3.10/dist-packages/pandas/_libs/index.pyx\u001b[0m in \u001b[0;36mpandas._libs.index._unpack_bool_indexer\u001b[0;34m()\u001b[0m\n",
            "\u001b[0;31mKeyError\u001b[0m: 'DAYS_BIRTH'",
            "\nThe above exception was the direct cause of the following exception:\n",
            "\u001b[0;31mKeyError\u001b[0m                                  Traceback (most recent call last)",
            "\u001b[0;32m<ipython-input-19-a40e33a5fe4d>\u001b[0m in \u001b[0;36m<cell line: 11>\u001b[0;34m()\u001b[0m\n\u001b[1;32m     11\u001b[0m \u001b[0;32mfor\u001b[0m \u001b[0mcolumn\u001b[0m \u001b[0;32min\u001b[0m \u001b[0mcolumns_to_transform\u001b[0m\u001b[0;34m:\u001b[0m\u001b[0;34m\u001b[0m\u001b[0;34m\u001b[0m\u001b[0m\n\u001b[1;32m     12\u001b[0m     \u001b[0;31m# 対数変換\u001b[0m\u001b[0;34m\u001b[0m\u001b[0;34m\u001b[0m\u001b[0m\n\u001b[0;32m---> 13\u001b[0;31m     \u001b[0mtrain_transformed\u001b[0m\u001b[0;34m[\u001b[0m\u001b[0mcolumn\u001b[0m\u001b[0;34m]\u001b[0m \u001b[0;34m=\u001b[0m \u001b[0mnp\u001b[0m\u001b[0;34m.\u001b[0m\u001b[0mlog\u001b[0m\u001b[0;34m(\u001b[0m\u001b[0mtrain_abs\u001b[0m\u001b[0;34m[\u001b[0m\u001b[0mcolumn\u001b[0m\u001b[0;34m]\u001b[0m\u001b[0;34m+\u001b[0m\u001b[0;36m1\u001b[0m\u001b[0;34m)\u001b[0m\u001b[0;34m\u001b[0m\u001b[0;34m\u001b[0m\u001b[0m\n\u001b[0m\u001b[1;32m     14\u001b[0m     \u001b[0mtest_transformed_std_log\u001b[0m\u001b[0;34m[\u001b[0m\u001b[0mcolumn\u001b[0m\u001b[0;34m]\u001b[0m \u001b[0;34m=\u001b[0m \u001b[0mnp\u001b[0m\u001b[0;34m.\u001b[0m\u001b[0mlog\u001b[0m\u001b[0;34m(\u001b[0m\u001b[0mtest_abs\u001b[0m\u001b[0;34m[\u001b[0m\u001b[0mcolumn\u001b[0m\u001b[0;34m]\u001b[0m\u001b[0;34m+\u001b[0m\u001b[0;36m1\u001b[0m\u001b[0;34m)\u001b[0m\u001b[0;34m\u001b[0m\u001b[0;34m\u001b[0m\u001b[0m\n\u001b[1;32m     15\u001b[0m     \u001b[0;31m# 標準化\u001b[0m\u001b[0;34m\u001b[0m\u001b[0;34m\u001b[0m\u001b[0m\n",
            "\u001b[0;32m/usr/local/lib/python3.10/dist-packages/pandas/core/frame.py\u001b[0m in \u001b[0;36m__getitem__\u001b[0;34m(self, key)\u001b[0m\n\u001b[1;32m   3805\u001b[0m             \u001b[0;32mif\u001b[0m \u001b[0mself\u001b[0m\u001b[0;34m.\u001b[0m\u001b[0mcolumns\u001b[0m\u001b[0;34m.\u001b[0m\u001b[0mnlevels\u001b[0m \u001b[0;34m>\u001b[0m \u001b[0;36m1\u001b[0m\u001b[0;34m:\u001b[0m\u001b[0;34m\u001b[0m\u001b[0;34m\u001b[0m\u001b[0m\n\u001b[1;32m   3806\u001b[0m                 \u001b[0;32mreturn\u001b[0m \u001b[0mself\u001b[0m\u001b[0;34m.\u001b[0m\u001b[0m_getitem_multilevel\u001b[0m\u001b[0;34m(\u001b[0m\u001b[0mkey\u001b[0m\u001b[0;34m)\u001b[0m\u001b[0;34m\u001b[0m\u001b[0;34m\u001b[0m\u001b[0m\n\u001b[0;32m-> 3807\u001b[0;31m             \u001b[0mindexer\u001b[0m \u001b[0;34m=\u001b[0m \u001b[0mself\u001b[0m\u001b[0;34m.\u001b[0m\u001b[0mcolumns\u001b[0m\u001b[0;34m.\u001b[0m\u001b[0mget_loc\u001b[0m\u001b[0;34m(\u001b[0m\u001b[0mkey\u001b[0m\u001b[0;34m)\u001b[0m\u001b[0;34m\u001b[0m\u001b[0;34m\u001b[0m\u001b[0m\n\u001b[0m\u001b[1;32m   3808\u001b[0m             \u001b[0;32mif\u001b[0m \u001b[0mis_integer\u001b[0m\u001b[0;34m(\u001b[0m\u001b[0mindexer\u001b[0m\u001b[0;34m)\u001b[0m\u001b[0;34m:\u001b[0m\u001b[0;34m\u001b[0m\u001b[0;34m\u001b[0m\u001b[0m\n\u001b[1;32m   3809\u001b[0m                 \u001b[0mindexer\u001b[0m \u001b[0;34m=\u001b[0m \u001b[0;34m[\u001b[0m\u001b[0mindexer\u001b[0m\u001b[0;34m]\u001b[0m\u001b[0;34m\u001b[0m\u001b[0;34m\u001b[0m\u001b[0m\n",
            "\u001b[0;32m/usr/local/lib/python3.10/dist-packages/pandas/core/indexes/base.py\u001b[0m in \u001b[0;36mget_loc\u001b[0;34m(self, key, method, tolerance)\u001b[0m\n\u001b[1;32m   3802\u001b[0m                 \u001b[0;32mreturn\u001b[0m \u001b[0mself\u001b[0m\u001b[0;34m.\u001b[0m\u001b[0m_engine\u001b[0m\u001b[0;34m.\u001b[0m\u001b[0mget_loc\u001b[0m\u001b[0;34m(\u001b[0m\u001b[0mcasted_key\u001b[0m\u001b[0;34m)\u001b[0m\u001b[0;34m\u001b[0m\u001b[0;34m\u001b[0m\u001b[0m\n\u001b[1;32m   3803\u001b[0m             \u001b[0;32mexcept\u001b[0m \u001b[0mKeyError\u001b[0m \u001b[0;32mas\u001b[0m \u001b[0merr\u001b[0m\u001b[0;34m:\u001b[0m\u001b[0;34m\u001b[0m\u001b[0;34m\u001b[0m\u001b[0m\n\u001b[0;32m-> 3804\u001b[0;31m                 \u001b[0;32mraise\u001b[0m \u001b[0mKeyError\u001b[0m\u001b[0;34m(\u001b[0m\u001b[0mkey\u001b[0m\u001b[0;34m)\u001b[0m \u001b[0;32mfrom\u001b[0m \u001b[0merr\u001b[0m\u001b[0;34m\u001b[0m\u001b[0;34m\u001b[0m\u001b[0m\n\u001b[0m\u001b[1;32m   3805\u001b[0m             \u001b[0;32mexcept\u001b[0m \u001b[0mTypeError\u001b[0m\u001b[0;34m:\u001b[0m\u001b[0;34m\u001b[0m\u001b[0;34m\u001b[0m\u001b[0m\n\u001b[1;32m   3806\u001b[0m                 \u001b[0;31m# If we have a listlike key, _check_indexing_error will raise\u001b[0m\u001b[0;34m\u001b[0m\u001b[0;34m\u001b[0m\u001b[0m\n",
            "\u001b[0;31mKeyError\u001b[0m: 'DAYS_BIRTH'"
          ]
        }
      ],
      "source": [
        "#正値化\n",
        "train_abs = train_transformed.abs()\n",
        "test_abs = test_transformed.abs()\n",
        "#変換したいカラムのリスト\n",
        "columns_to_transform = [\"REGION_RATING_CLIENT\",\"DAYS_BIRTH\",\"DAYS_REGISTRATION\",\"DAYS_ID_PUBLISH\",\"OBS_30_CNT_SOCIAL_CIRCLE\",\n",
        "                        \"DEF_30_CNT_SOCIAL_CIRCLE\",\"ORGANIZATION_TYPE\",\"AMT_REQ_CREDIT_BUREAU_SUM\",\"EXT_SOURCE_SUM\",\"AMT_CREDIT\",\n",
        "                        \"ORGANIZATION_TYPE\",\"CNT_CHILDREN\"]\n",
        "#元のデータフレームをコピー\n",
        "train_transformed_std_log = train_abs.copy()\n",
        "test_transformed_std_log = test_abs.copy()\n",
        "for column in columns_to_transform:\n",
        "    # 対数変換\n",
        "    train_transformed[column] = np.log(train_abs[column]+1)\n",
        "    test_transformed_std_log[column] = np.log(test_abs[column]+1)\n",
        "    # 標準化\n",
        "    train_transformed_std_log[column] = (train_transformed_std_log[column] - train_transformed_std_log[column].mean()) / train_transformed_std_log[column].std()\n",
        "    test_transformed_std_log[column] = (test_transformed_std_log[column] - test_transformed_std_log[column].mean()) / test_transformed_std_log[column].std()"
      ]
    },
    {
      "cell_type": "markdown",
      "metadata": {
        "id": "mdxpI3fDe4Uf"
      },
      "source": [
        "##LightGBM用のデータ"
      ]
    },
    {
      "cell_type": "code",
      "execution_count": 17,
      "metadata": {
        "id": "aYUjWup2fBUa"
      },
      "outputs": [],
      "source": [
        "train_lgb = train_transformed\n",
        "test_lgb = test_transformed"
      ]
    },
    {
      "cell_type": "code",
      "source": [
        "train_lgb"
      ],
      "metadata": {
        "id": "qeRL1HQe-X-j",
        "colab": {
          "base_uri": "https://localhost:8080/",
          "height": 488
        },
        "outputId": "c8dd814d-d5f9-4f65-9f0f-b8bbc877116b"
      },
      "execution_count": 18,
      "outputs": [
        {
          "output_type": "execute_result",
          "data": {
            "text/plain": [
              "        FLAG_CONT_MOBILE  LIVE_CITY_NOT_WORK_CITY  OBS_60_CNT_SOCIAL_CIRCLE  \\\n",
              "0                      1                        1                       0.0   \n",
              "1                      1                        0                       0.0   \n",
              "2                      1                        0                       4.0   \n",
              "3                      1                        0                       0.0   \n",
              "4                      1                        1                       0.0   \n",
              "...                  ...                      ...                       ...   \n",
              "171197                 1                        1                       0.0   \n",
              "171198                 1                        0                       0.0   \n",
              "171199                 1                        0                       2.0   \n",
              "171200                 1                        0                       0.0   \n",
              "171201                 1                        0                       0.0   \n",
              "\n",
              "        DEF_60_CNT_SOCIAL_CIRCLE  NAME_FAMILY_STATUS  \\\n",
              "0                            0.0                   0   \n",
              "1                            0.0                   0   \n",
              "2                            0.0                   0   \n",
              "3                            0.0                   1   \n",
              "4                            0.0                   0   \n",
              "...                          ...                 ...   \n",
              "171197                       0.0                   0   \n",
              "171198                       0.0                   1   \n",
              "171199                       1.0                   0   \n",
              "171200                       0.0                   1   \n",
              "171201                       0.0                   1   \n",
              "\n",
              "        REGION_POPULATION_RELATIVE  DAYS_LAST_PHONE_CHANGE  \\\n",
              "0                         0.010032                0.800000   \n",
              "1                         0.008019                1.690411   \n",
              "2                         0.004960                1.484932   \n",
              "3                         0.005002               -0.000000   \n",
              "4                         0.006296                3.405479   \n",
              "...                            ...                     ...   \n",
              "171197                    0.031329                6.413699   \n",
              "171198                    0.010006                4.624658   \n",
              "171199                    0.006629                1.410959   \n",
              "171200                    0.009657                3.104110   \n",
              "171201                    0.007305                0.602740   \n",
              "\n",
              "        REGION_RATING_CLIENT  DAYS_EMPLOYED  CNT_FAM_MEMBERS  ...  OBS_DEF_60  \\\n",
              "0                          2       2.405479              2.0  ...         0.0   \n",
              "1                          2            NaN              2.0  ...         0.0   \n",
              "2                          2       1.432877              2.0  ...         2.0   \n",
              "3                          3            NaN              1.0  ...         0.0   \n",
              "4                          3       1.909589              2.0  ...         0.0   \n",
              "...                      ...            ...              ...  ...         ...   \n",
              "171197                     2       8.380822              2.0  ...         0.0   \n",
              "171198                     2       0.353425              1.0  ...         0.0   \n",
              "171199                     2       6.947945              4.0  ...         1.5   \n",
              "171200                     2       0.452055              1.0  ...         0.0   \n",
              "171201                     3      14.271233              1.0  ...         0.0   \n",
              "\n",
              "        OBS_DEF  EXT_23_mean  EXT_12_mean  EXT_13_mean  EXT_23_delta  \\\n",
              "0           0.0          NaN          NaN          NaN           NaN   \n",
              "1           0.0     0.501366          NaN          NaN      0.103598   \n",
              "2           2.0          NaN          NaN          NaN           NaN   \n",
              "3           0.0     0.436379          NaN          NaN      0.662289   \n",
              "4           0.0     0.435773     0.272417       0.5057      0.466567   \n",
              "...         ...          ...          ...          ...           ...   \n",
              "171197      0.0     0.586684          NaN          NaN      0.364248   \n",
              "171198      0.0          NaN          NaN          NaN           NaN   \n",
              "171199      1.5     0.711349          NaN          NaN      0.094088   \n",
              "171200      0.0          NaN     0.418984          NaN           NaN   \n",
              "171201      0.0     0.450244          NaN          NaN      0.135484   \n",
              "\n",
              "        EXT_12_delta  EXT_13_delta  EXT_mean  EXT_SOURCE_null  \n",
              "0                NaN           NaN       NaN                0  \n",
              "1                NaN           NaN       NaN                0  \n",
              "2                NaN           NaN       NaN                0  \n",
              "3                NaN           NaN       NaN                0  \n",
              "4           0.139854      0.326713   0.40463                0  \n",
              "...              ...           ...       ...              ...  \n",
              "171197           NaN           NaN       NaN                0  \n",
              "171198           NaN           NaN       NaN                0  \n",
              "171199           NaN           NaN       NaN                0  \n",
              "171200      0.416132           NaN       NaN                0  \n",
              "171201           NaN           NaN       NaN                0  \n",
              "\n",
              "[171202 rows x 85 columns]"
            ],
            "text/html": [
              "\n",
              "  <div id=\"df-65f9fbca-00f1-4b72-ade3-de8114a780af\">\n",
              "    <div class=\"colab-df-container\">\n",
              "      <div>\n",
              "<style scoped>\n",
              "    .dataframe tbody tr th:only-of-type {\n",
              "        vertical-align: middle;\n",
              "    }\n",
              "\n",
              "    .dataframe tbody tr th {\n",
              "        vertical-align: top;\n",
              "    }\n",
              "\n",
              "    .dataframe thead th {\n",
              "        text-align: right;\n",
              "    }\n",
              "</style>\n",
              "<table border=\"1\" class=\"dataframe\">\n",
              "  <thead>\n",
              "    <tr style=\"text-align: right;\">\n",
              "      <th></th>\n",
              "      <th>FLAG_CONT_MOBILE</th>\n",
              "      <th>LIVE_CITY_NOT_WORK_CITY</th>\n",
              "      <th>OBS_60_CNT_SOCIAL_CIRCLE</th>\n",
              "      <th>DEF_60_CNT_SOCIAL_CIRCLE</th>\n",
              "      <th>NAME_FAMILY_STATUS</th>\n",
              "      <th>REGION_POPULATION_RELATIVE</th>\n",
              "      <th>DAYS_LAST_PHONE_CHANGE</th>\n",
              "      <th>REGION_RATING_CLIENT</th>\n",
              "      <th>DAYS_EMPLOYED</th>\n",
              "      <th>CNT_FAM_MEMBERS</th>\n",
              "      <th>...</th>\n",
              "      <th>OBS_DEF_60</th>\n",
              "      <th>OBS_DEF</th>\n",
              "      <th>EXT_23_mean</th>\n",
              "      <th>EXT_12_mean</th>\n",
              "      <th>EXT_13_mean</th>\n",
              "      <th>EXT_23_delta</th>\n",
              "      <th>EXT_12_delta</th>\n",
              "      <th>EXT_13_delta</th>\n",
              "      <th>EXT_mean</th>\n",
              "      <th>EXT_SOURCE_null</th>\n",
              "    </tr>\n",
              "  </thead>\n",
              "  <tbody>\n",
              "    <tr>\n",
              "      <th>0</th>\n",
              "      <td>1</td>\n",
              "      <td>1</td>\n",
              "      <td>0.0</td>\n",
              "      <td>0.0</td>\n",
              "      <td>0</td>\n",
              "      <td>0.010032</td>\n",
              "      <td>0.800000</td>\n",
              "      <td>2</td>\n",
              "      <td>2.405479</td>\n",
              "      <td>2.0</td>\n",
              "      <td>...</td>\n",
              "      <td>0.0</td>\n",
              "      <td>0.0</td>\n",
              "      <td>NaN</td>\n",
              "      <td>NaN</td>\n",
              "      <td>NaN</td>\n",
              "      <td>NaN</td>\n",
              "      <td>NaN</td>\n",
              "      <td>NaN</td>\n",
              "      <td>NaN</td>\n",
              "      <td>0</td>\n",
              "    </tr>\n",
              "    <tr>\n",
              "      <th>1</th>\n",
              "      <td>1</td>\n",
              "      <td>0</td>\n",
              "      <td>0.0</td>\n",
              "      <td>0.0</td>\n",
              "      <td>0</td>\n",
              "      <td>0.008019</td>\n",
              "      <td>1.690411</td>\n",
              "      <td>2</td>\n",
              "      <td>NaN</td>\n",
              "      <td>2.0</td>\n",
              "      <td>...</td>\n",
              "      <td>0.0</td>\n",
              "      <td>0.0</td>\n",
              "      <td>0.501366</td>\n",
              "      <td>NaN</td>\n",
              "      <td>NaN</td>\n",
              "      <td>0.103598</td>\n",
              "      <td>NaN</td>\n",
              "      <td>NaN</td>\n",
              "      <td>NaN</td>\n",
              "      <td>0</td>\n",
              "    </tr>\n",
              "    <tr>\n",
              "      <th>2</th>\n",
              "      <td>1</td>\n",
              "      <td>0</td>\n",
              "      <td>4.0</td>\n",
              "      <td>0.0</td>\n",
              "      <td>0</td>\n",
              "      <td>0.004960</td>\n",
              "      <td>1.484932</td>\n",
              "      <td>2</td>\n",
              "      <td>1.432877</td>\n",
              "      <td>2.0</td>\n",
              "      <td>...</td>\n",
              "      <td>2.0</td>\n",
              "      <td>2.0</td>\n",
              "      <td>NaN</td>\n",
              "      <td>NaN</td>\n",
              "      <td>NaN</td>\n",
              "      <td>NaN</td>\n",
              "      <td>NaN</td>\n",
              "      <td>NaN</td>\n",
              "      <td>NaN</td>\n",
              "      <td>0</td>\n",
              "    </tr>\n",
              "    <tr>\n",
              "      <th>3</th>\n",
              "      <td>1</td>\n",
              "      <td>0</td>\n",
              "      <td>0.0</td>\n",
              "      <td>0.0</td>\n",
              "      <td>1</td>\n",
              "      <td>0.005002</td>\n",
              "      <td>-0.000000</td>\n",
              "      <td>3</td>\n",
              "      <td>NaN</td>\n",
              "      <td>1.0</td>\n",
              "      <td>...</td>\n",
              "      <td>0.0</td>\n",
              "      <td>0.0</td>\n",
              "      <td>0.436379</td>\n",
              "      <td>NaN</td>\n",
              "      <td>NaN</td>\n",
              "      <td>0.662289</td>\n",
              "      <td>NaN</td>\n",
              "      <td>NaN</td>\n",
              "      <td>NaN</td>\n",
              "      <td>0</td>\n",
              "    </tr>\n",
              "    <tr>\n",
              "      <th>4</th>\n",
              "      <td>1</td>\n",
              "      <td>1</td>\n",
              "      <td>0.0</td>\n",
              "      <td>0.0</td>\n",
              "      <td>0</td>\n",
              "      <td>0.006296</td>\n",
              "      <td>3.405479</td>\n",
              "      <td>3</td>\n",
              "      <td>1.909589</td>\n",
              "      <td>2.0</td>\n",
              "      <td>...</td>\n",
              "      <td>0.0</td>\n",
              "      <td>0.0</td>\n",
              "      <td>0.435773</td>\n",
              "      <td>0.272417</td>\n",
              "      <td>0.5057</td>\n",
              "      <td>0.466567</td>\n",
              "      <td>0.139854</td>\n",
              "      <td>0.326713</td>\n",
              "      <td>0.40463</td>\n",
              "      <td>0</td>\n",
              "    </tr>\n",
              "    <tr>\n",
              "      <th>...</th>\n",
              "      <td>...</td>\n",
              "      <td>...</td>\n",
              "      <td>...</td>\n",
              "      <td>...</td>\n",
              "      <td>...</td>\n",
              "      <td>...</td>\n",
              "      <td>...</td>\n",
              "      <td>...</td>\n",
              "      <td>...</td>\n",
              "      <td>...</td>\n",
              "      <td>...</td>\n",
              "      <td>...</td>\n",
              "      <td>...</td>\n",
              "      <td>...</td>\n",
              "      <td>...</td>\n",
              "      <td>...</td>\n",
              "      <td>...</td>\n",
              "      <td>...</td>\n",
              "      <td>...</td>\n",
              "      <td>...</td>\n",
              "      <td>...</td>\n",
              "    </tr>\n",
              "    <tr>\n",
              "      <th>171197</th>\n",
              "      <td>1</td>\n",
              "      <td>1</td>\n",
              "      <td>0.0</td>\n",
              "      <td>0.0</td>\n",
              "      <td>0</td>\n",
              "      <td>0.031329</td>\n",
              "      <td>6.413699</td>\n",
              "      <td>2</td>\n",
              "      <td>8.380822</td>\n",
              "      <td>2.0</td>\n",
              "      <td>...</td>\n",
              "      <td>0.0</td>\n",
              "      <td>0.0</td>\n",
              "      <td>0.586684</td>\n",
              "      <td>NaN</td>\n",
              "      <td>NaN</td>\n",
              "      <td>0.364248</td>\n",
              "      <td>NaN</td>\n",
              "      <td>NaN</td>\n",
              "      <td>NaN</td>\n",
              "      <td>0</td>\n",
              "    </tr>\n",
              "    <tr>\n",
              "      <th>171198</th>\n",
              "      <td>1</td>\n",
              "      <td>0</td>\n",
              "      <td>0.0</td>\n",
              "      <td>0.0</td>\n",
              "      <td>1</td>\n",
              "      <td>0.010006</td>\n",
              "      <td>4.624658</td>\n",
              "      <td>2</td>\n",
              "      <td>0.353425</td>\n",
              "      <td>1.0</td>\n",
              "      <td>...</td>\n",
              "      <td>0.0</td>\n",
              "      <td>0.0</td>\n",
              "      <td>NaN</td>\n",
              "      <td>NaN</td>\n",
              "      <td>NaN</td>\n",
              "      <td>NaN</td>\n",
              "      <td>NaN</td>\n",
              "      <td>NaN</td>\n",
              "      <td>NaN</td>\n",
              "      <td>0</td>\n",
              "    </tr>\n",
              "    <tr>\n",
              "      <th>171199</th>\n",
              "      <td>1</td>\n",
              "      <td>0</td>\n",
              "      <td>2.0</td>\n",
              "      <td>1.0</td>\n",
              "      <td>0</td>\n",
              "      <td>0.006629</td>\n",
              "      <td>1.410959</td>\n",
              "      <td>2</td>\n",
              "      <td>6.947945</td>\n",
              "      <td>4.0</td>\n",
              "      <td>...</td>\n",
              "      <td>1.5</td>\n",
              "      <td>1.5</td>\n",
              "      <td>0.711349</td>\n",
              "      <td>NaN</td>\n",
              "      <td>NaN</td>\n",
              "      <td>0.094088</td>\n",
              "      <td>NaN</td>\n",
              "      <td>NaN</td>\n",
              "      <td>NaN</td>\n",
              "      <td>0</td>\n",
              "    </tr>\n",
              "    <tr>\n",
              "      <th>171200</th>\n",
              "      <td>1</td>\n",
              "      <td>0</td>\n",
              "      <td>0.0</td>\n",
              "      <td>0.0</td>\n",
              "      <td>1</td>\n",
              "      <td>0.009657</td>\n",
              "      <td>3.104110</td>\n",
              "      <td>2</td>\n",
              "      <td>0.452055</td>\n",
              "      <td>1.0</td>\n",
              "      <td>...</td>\n",
              "      <td>0.0</td>\n",
              "      <td>0.0</td>\n",
              "      <td>NaN</td>\n",
              "      <td>0.418984</td>\n",
              "      <td>NaN</td>\n",
              "      <td>NaN</td>\n",
              "      <td>0.416132</td>\n",
              "      <td>NaN</td>\n",
              "      <td>NaN</td>\n",
              "      <td>0</td>\n",
              "    </tr>\n",
              "    <tr>\n",
              "      <th>171201</th>\n",
              "      <td>1</td>\n",
              "      <td>0</td>\n",
              "      <td>0.0</td>\n",
              "      <td>0.0</td>\n",
              "      <td>1</td>\n",
              "      <td>0.007305</td>\n",
              "      <td>0.602740</td>\n",
              "      <td>3</td>\n",
              "      <td>14.271233</td>\n",
              "      <td>1.0</td>\n",
              "      <td>...</td>\n",
              "      <td>0.0</td>\n",
              "      <td>0.0</td>\n",
              "      <td>0.450244</td>\n",
              "      <td>NaN</td>\n",
              "      <td>NaN</td>\n",
              "      <td>0.135484</td>\n",
              "      <td>NaN</td>\n",
              "      <td>NaN</td>\n",
              "      <td>NaN</td>\n",
              "      <td>0</td>\n",
              "    </tr>\n",
              "  </tbody>\n",
              "</table>\n",
              "<p>171202 rows × 85 columns</p>\n",
              "</div>\n",
              "      <button class=\"colab-df-convert\" onclick=\"convertToInteractive('df-65f9fbca-00f1-4b72-ade3-de8114a780af')\"\n",
              "              title=\"Convert this dataframe to an interactive table.\"\n",
              "              style=\"display:none;\">\n",
              "        \n",
              "  <svg xmlns=\"http://www.w3.org/2000/svg\" height=\"24px\"viewBox=\"0 0 24 24\"\n",
              "       width=\"24px\">\n",
              "    <path d=\"M0 0h24v24H0V0z\" fill=\"none\"/>\n",
              "    <path d=\"M18.56 5.44l.94 2.06.94-2.06 2.06-.94-2.06-.94-.94-2.06-.94 2.06-2.06.94zm-11 1L8.5 8.5l.94-2.06 2.06-.94-2.06-.94L8.5 2.5l-.94 2.06-2.06.94zm10 10l.94 2.06.94-2.06 2.06-.94-2.06-.94-.94-2.06-.94 2.06-2.06.94z\"/><path d=\"M17.41 7.96l-1.37-1.37c-.4-.4-.92-.59-1.43-.59-.52 0-1.04.2-1.43.59L10.3 9.45l-7.72 7.72c-.78.78-.78 2.05 0 2.83L4 21.41c.39.39.9.59 1.41.59.51 0 1.02-.2 1.41-.59l7.78-7.78 2.81-2.81c.8-.78.8-2.07 0-2.86zM5.41 20L4 18.59l7.72-7.72 1.47 1.35L5.41 20z\"/>\n",
              "  </svg>\n",
              "      </button>\n",
              "      \n",
              "  <style>\n",
              "    .colab-df-container {\n",
              "      display:flex;\n",
              "      flex-wrap:wrap;\n",
              "      gap: 12px;\n",
              "    }\n",
              "\n",
              "    .colab-df-convert {\n",
              "      background-color: #E8F0FE;\n",
              "      border: none;\n",
              "      border-radius: 50%;\n",
              "      cursor: pointer;\n",
              "      display: none;\n",
              "      fill: #1967D2;\n",
              "      height: 32px;\n",
              "      padding: 0 0 0 0;\n",
              "      width: 32px;\n",
              "    }\n",
              "\n",
              "    .colab-df-convert:hover {\n",
              "      background-color: #E2EBFA;\n",
              "      box-shadow: 0px 1px 2px rgba(60, 64, 67, 0.3), 0px 1px 3px 1px rgba(60, 64, 67, 0.15);\n",
              "      fill: #174EA6;\n",
              "    }\n",
              "\n",
              "    [theme=dark] .colab-df-convert {\n",
              "      background-color: #3B4455;\n",
              "      fill: #D2E3FC;\n",
              "    }\n",
              "\n",
              "    [theme=dark] .colab-df-convert:hover {\n",
              "      background-color: #434B5C;\n",
              "      box-shadow: 0px 1px 3px 1px rgba(0, 0, 0, 0.15);\n",
              "      filter: drop-shadow(0px 1px 2px rgba(0, 0, 0, 0.3));\n",
              "      fill: #FFFFFF;\n",
              "    }\n",
              "  </style>\n",
              "\n",
              "      <script>\n",
              "        const buttonEl =\n",
              "          document.querySelector('#df-65f9fbca-00f1-4b72-ade3-de8114a780af button.colab-df-convert');\n",
              "        buttonEl.style.display =\n",
              "          google.colab.kernel.accessAllowed ? 'block' : 'none';\n",
              "\n",
              "        async function convertToInteractive(key) {\n",
              "          const element = document.querySelector('#df-65f9fbca-00f1-4b72-ade3-de8114a780af');\n",
              "          const dataTable =\n",
              "            await google.colab.kernel.invokeFunction('convertToInteractive',\n",
              "                                                     [key], {});\n",
              "          if (!dataTable) return;\n",
              "\n",
              "          const docLinkHtml = 'Like what you see? Visit the ' +\n",
              "            '<a target=\"_blank\" href=https://colab.research.google.com/notebooks/data_table.ipynb>data table notebook</a>'\n",
              "            + ' to learn more about interactive tables.';\n",
              "          element.innerHTML = '';\n",
              "          dataTable['output_type'] = 'display_data';\n",
              "          await google.colab.output.renderOutput(dataTable, element);\n",
              "          const docLink = document.createElement('div');\n",
              "          docLink.innerHTML = docLinkHtml;\n",
              "          element.appendChild(docLink);\n",
              "        }\n",
              "      </script>\n",
              "    </div>\n",
              "  </div>\n",
              "  "
            ]
          },
          "metadata": {},
          "execution_count": 18
        }
      ]
    },
    {
      "cell_type": "markdown",
      "metadata": {
        "id": "FoKdK60PCnmP"
      },
      "source": [
        "##機械学習モデルの作成"
      ]
    },
    {
      "cell_type": "code",
      "execution_count": 20,
      "metadata": {
        "id": "RVwkQ5b8CnmP"
      },
      "outputs": [],
      "source": [
        "# ライブラリの読み込み\n",
        "from sklearn.model_selection import train_test_split\n",
        "from sklearn.preprocessing import StandardScaler\n",
        "from sklearn.metrics import roc_auc_score"
      ]
    },
    {
      "cell_type": "code",
      "execution_count": 21,
      "metadata": {
        "id": "joie-z89KBdg"
      },
      "outputs": [],
      "source": [
        "# 目的変数と説明変数に分割\n",
        "X = train_transformed.drop(\"TARGET\", axis=1).values\n",
        "y = train_transformed[\"TARGET\"].values\n",
        "X_test = test_transformed.values"
      ]
    },
    {
      "cell_type": "markdown",
      "source": [
        "##Optunaによるパラメータチューニング"
      ],
      "metadata": {
        "id": "2uT-v65F0jQh"
      }
    },
    {
      "cell_type": "code",
      "source": [
        "!pip install optuna"
      ],
      "metadata": {
        "id": "m3PdXxmT1HJp"
      },
      "execution_count": null,
      "outputs": []
    },
    {
      "cell_type": "code",
      "source": [
        "import optuna\n",
        "import lightgbm as lgb\n",
        "import xgboost as xgb\n",
        "from lightgbm import LGBMClassifier\n",
        "from xgboost import XGBClassifier\n",
        "from sklearn.metrics import roc_auc_score\n",
        "from sklearn.model_selection import train_test_split\n",
        "\n",
        "# 目的関数の定義\n",
        "def objective_lgb(trial):\n",
        "    # パラメータの範囲を指定\n",
        "    params = {\n",
        "        'objective': 'binary',\n",
        "        \"boosting_type\" : \"gbdt\",\n",
        "        'metric': 'auc',\n",
        "        'num_leaves': trial.suggest_int('num_leaves', 10, 100),\n",
        "        'learning_rate': trial.suggest_loguniform('learning_rate', 0.01, 0.5),\n",
        "        'reg_lambda': trial.suggest_uniform('reg_lambda', 0.0, 2.0),\n",
        "        'reg_alpha': trial.suggest_uniform('reg_alpha', 0.0, 10.0),\n",
        "        'colsample_bytree': trial.suggest_uniform('colsample_bytree', 0.1, 1.0),\n",
        "        'subsample': trial.suggest_uniform('subsample', 0.1, 1.0),\n",
        "        'max_depth': trial.suggest_int('max_depth', 3, 10),\n",
        "        'min_child_weight': trial.suggest_uniform('min_child_weight', 0.0, 50.0),\n",
        "        'random_state': 71,\n",
        "    }\n",
        "\n",
        "    # データの分割\n",
        "    X_train, X_val, y_train, y_val = train_test_split(X, y, test_size=0.3, random_state=42)\n",
        "\n",
        "    # LightGBMモデルの学習\n",
        "    model = lgb.LGBMClassifier(**params)\n",
        "    model.fit(X_train, y_train)\n",
        "\n",
        "    # バリデーションデータでの予測\n",
        "    y_pred = model.predict_proba(X_val)[:, 1]\n",
        "\n",
        "    # AUCを評価指標として返す\n",
        "    score = roc_auc_score(y_val, y_pred)\n",
        "    return score\n",
        "\n",
        "def objective_xgb(trial):\n",
        "    # パラメータの範囲を指定\n",
        "    params = {\n",
        "        'objective': 'binary:logistic',\n",
        "        'eval_metric': 'auc',\n",
        "        'max_depth': trial.suggest_int('max_depth', 3, 7),\n",
        "        'learning_rate': trial.suggest_loguniform('learning_rate', 0.01, 0.5),\n",
        "        'colsample_bytree': trial.suggest_uniform('colsample_bytree', 0.1, 1.0),\n",
        "        'random_state': 71,\n",
        "    }\n",
        "\n",
        "    # データの分割\n",
        "    X_train, X_val, y_train, y_val = train_test_split(X, y, test_size=0.3, random_state=42)\n",
        "\n",
        "    # XGBoostモデルの学習\n",
        "    model = xgb.XGBClassifier(**params)\n",
        "    model.fit(X_train, y_train)\n",
        "\n",
        "    # バリデーションデータでの予測\n",
        "    y_pred = model.predict_proba(X_val)[:, 1]\n",
        "\n",
        "    # AUCを評価指標として返す\n",
        "    score = roc_auc_score(y_val, y_pred)\n",
        "    return score\n",
        "\n",
        "# Optunaによるパラメータチューニング（LightGBM）\n",
        "study_lgb = optuna.create_study(direction='maximize')\n",
        "study_lgb.optimize(objective_lgb, n_trials=80)\n",
        "# 最適なパラメータの取得\n",
        "best_params_lgb = study_lgb.best_params\n",
        "print(\"LightGBM Best Parameters:\", best_params_lgb)\n",
        "\n",
        "# Optunaによるパラメータチューニング（XGBoost）\n",
        "study_xgb = optuna.create_study(direction='maximize')\n",
        "study_xgb.optimize(objective_xgb, n_trials=70)\n",
        "# 最適なパラメータの取得\n",
        "best_params_xgb = study_xgb.best_params\n",
        "print(\"XGBoost Best Parameters:\", best_params_xgb)"
      ],
      "metadata": {
        "id": "35jGoNwV0nmB",
        "colab": {
          "base_uri": "https://localhost:8080/"
        },
        "outputId": "5290707c-7748-4eb5-ed2c-cae6cd1ba2c8"
      },
      "execution_count": null,
      "outputs": [
        {
          "output_type": "stream",
          "name": "stderr",
          "text": [
            "[I 2023-06-29 17:27:14,812] A new study created in memory with name: no-name-6166c75a-9238-4332-b161-9a6a1989c278\n",
            "[I 2023-06-29 17:27:22,332] Trial 0 finished with value: 0.757964293539557 and parameters: {'num_leaves': 50, 'learning_rate': 0.1347780062510512, 'reg_lambda': 0.423815076974553, 'reg_alpha': 7.850043423057597, 'colsample_bytree': 0.4131979377809608, 'subsample': 0.3123408932958188, 'max_depth': 9, 'min_child_weight': 22.104430922561054}. Best is trial 0 with value: 0.757964293539557.\n",
            "[I 2023-06-29 17:27:25,695] Trial 1 finished with value: 0.7349167971719974 and parameters: {'num_leaves': 32, 'learning_rate': 0.015385180678736893, 'reg_lambda': 1.8005053005913036, 'reg_alpha': 8.567532348042272, 'colsample_bytree': 0.7684347114017996, 'subsample': 0.8036477842690846, 'max_depth': 4, 'min_child_weight': 20.9394754349095}. Best is trial 0 with value: 0.757964293539557.\n",
            "[I 2023-06-29 17:27:36,200] Trial 2 finished with value: 0.7555358089462539 and parameters: {'num_leaves': 89, 'learning_rate': 0.09251644116485104, 'reg_lambda': 0.06136530923395256, 'reg_alpha': 7.099540355792938, 'colsample_bytree': 0.40934005600433354, 'subsample': 0.33170877426589396, 'max_depth': 4, 'min_child_weight': 12.167364569870049}. Best is trial 0 with value: 0.757964293539557.\n",
            "[I 2023-06-29 17:27:40,308] Trial 3 finished with value: 0.7532345834582853 and parameters: {'num_leaves': 93, 'learning_rate': 0.051790572763723515, 'reg_lambda': 1.752004610765444, 'reg_alpha': 7.724038268789507, 'colsample_bytree': 0.8102290327598852, 'subsample': 0.3393320152598426, 'max_depth': 4, 'min_child_weight': 39.9971906556922}. Best is trial 0 with value: 0.757964293539557.\n",
            "[I 2023-06-29 17:27:44,206] Trial 4 finished with value: 0.755606175805069 and parameters: {'num_leaves': 42, 'learning_rate': 0.05127397837122565, 'reg_lambda': 0.7906734773802429, 'reg_alpha': 7.669729641404878, 'colsample_bytree': 0.18425170451174172, 'subsample': 0.39672921784707516, 'max_depth': 8, 'min_child_weight': 31.77339675229395}. Best is trial 0 with value: 0.757964293539557.\n",
            "[I 2023-06-29 17:27:53,515] Trial 5 finished with value: 0.7571293168992539 and parameters: {'num_leaves': 10, 'learning_rate': 0.3531263719180062, 'reg_lambda': 1.849498313820732, 'reg_alpha': 8.00760010338732, 'colsample_bytree': 0.2523665531074917, 'subsample': 0.966051244676971, 'max_depth': 8, 'min_child_weight': 21.909190354160625}. Best is trial 0 with value: 0.757964293539557.\n",
            "[I 2023-06-29 17:27:57,084] Trial 6 finished with value: 0.7374109004514424 and parameters: {'num_leaves': 89, 'learning_rate': 0.014384720560548063, 'reg_lambda': 0.5618417261091135, 'reg_alpha': 6.674381848738506, 'colsample_bytree': 0.9178131959795183, 'subsample': 0.8102356425396088, 'max_depth': 5, 'min_child_weight': 48.148484729370935}. Best is trial 0 with value: 0.757964293539557.\n",
            "[I 2023-06-29 17:28:03,680] Trial 7 finished with value: 0.7541875348981857 and parameters: {'num_leaves': 46, 'learning_rate': 0.16902765376346357, 'reg_lambda': 0.3297301726269233, 'reg_alpha': 2.6048635571708854, 'colsample_bytree': 0.7277506898352591, 'subsample': 0.44354718594309717, 'max_depth': 7, 'min_child_weight': 22.24495275110792}. Best is trial 0 with value: 0.757964293539557.\n",
            "[I 2023-06-29 17:28:08,632] Trial 8 finished with value: 0.7587223351417283 and parameters: {'num_leaves': 38, 'learning_rate': 0.14756012185157874, 'reg_lambda': 0.2921204931731196, 'reg_alpha': 8.828199013357658, 'colsample_bytree': 0.5282192968448423, 'subsample': 0.3824378080622184, 'max_depth': 10, 'min_child_weight': 49.81166613075624}. Best is trial 8 with value: 0.7587223351417283.\n",
            "[I 2023-06-29 17:28:16,811] Trial 9 finished with value: 0.7505414683843895 and parameters: {'num_leaves': 62, 'learning_rate': 0.021320632662461345, 'reg_lambda': 1.6670561248543958, 'reg_alpha': 1.760913443659785, 'colsample_bytree': 0.4916687135798484, 'subsample': 0.5364148384707818, 'max_depth': 8, 'min_child_weight': 17.916400910586596}. Best is trial 8 with value: 0.7587223351417283.\n",
            "[I 2023-06-29 17:28:21,713] Trial 10 finished with value: 0.7267145573269277 and parameters: {'num_leaves': 69, 'learning_rate': 0.3983438097585437, 'reg_lambda': 1.2551029356653418, 'reg_alpha': 9.338096928830133, 'colsample_bytree': 0.6386790451130605, 'subsample': 0.22907721120395524, 'max_depth': 10, 'min_child_weight': 0.0837621103867221}. Best is trial 8 with value: 0.7587223351417283.\n",
            "[I 2023-06-29 17:28:26,035] Trial 11 finished with value: 0.760697029728963 and parameters: {'num_leaves': 24, 'learning_rate': 0.17141075426383548, 'reg_lambda': 0.07896845972199257, 'reg_alpha': 9.838211384901063, 'colsample_bytree': 0.40532788549657406, 'subsample': 0.12111843110502718, 'max_depth': 10, 'min_child_weight': 49.818083590773284}. Best is trial 11 with value: 0.760697029728963.\n",
            "[I 2023-06-29 17:28:32,812] Trial 12 finished with value: 0.7585603318318911 and parameters: {'num_leaves': 22, 'learning_rate': 0.20252600894091907, 'reg_lambda': 0.005461214127265024, 'reg_alpha': 9.964931875302598, 'colsample_bytree': 0.5667437272139269, 'subsample': 0.10845851789362637, 'max_depth': 10, 'min_child_weight': 49.968174736669525}. Best is trial 11 with value: 0.760697029728963.\n",
            "[I 2023-06-29 17:28:36,863] Trial 13 finished with value: 0.7565535182924551 and parameters: {'num_leaves': 26, 'learning_rate': 0.23780357845627392, 'reg_lambda': 0.3475216172594417, 'reg_alpha': 5.554971707705408, 'colsample_bytree': 0.32388600243246923, 'subsample': 0.11949303076701168, 'max_depth': 10, 'min_child_weight': 41.246812900984}. Best is trial 11 with value: 0.760697029728963.\n",
            "[I 2023-06-29 17:28:43,718] Trial 14 finished with value: 0.7586932453267985 and parameters: {'num_leaves': 11, 'learning_rate': 0.10470538349232887, 'reg_lambda': 0.7789701789697328, 'reg_alpha': 9.89813281847233, 'colsample_bytree': 0.5576576977471195, 'subsample': 0.21220006628384763, 'max_depth': 9, 'min_child_weight': 42.03454406112105}. Best is trial 11 with value: 0.760697029728963.\n",
            "[I 2023-06-29 17:28:47,095] Trial 15 finished with value: 0.7535930616601086 and parameters: {'num_leaves': 35, 'learning_rate': 0.2567119049253877, 'reg_lambda': 0.17676820074477173, 'reg_alpha': 5.839727870682385, 'colsample_bytree': 0.12284998596626245, 'subsample': 0.486467680989902, 'max_depth': 6, 'min_child_weight': 30.99774253848658}. Best is trial 11 with value: 0.760697029728963.\n",
            "[I 2023-06-29 17:28:51,017] Trial 16 finished with value: 0.7574905617131185 and parameters: {'num_leaves': 74, 'learning_rate': 0.13203013260215857, 'reg_lambda': 0.18113199653799034, 'reg_alpha': 8.871855330699727, 'colsample_bytree': 0.3393547040479597, 'subsample': 0.5803798148565644, 'max_depth': 9, 'min_child_weight': 46.3602125377659}. Best is trial 11 with value: 0.760697029728963.\n",
            "[I 2023-06-29 17:28:58,129] Trial 17 finished with value: 0.7584543423187642 and parameters: {'num_leaves': 21, 'learning_rate': 0.07043037429719974, 'reg_lambda': 0.539651869517122, 'reg_alpha': 4.774443867453157, 'colsample_bytree': 0.4554269497714993, 'subsample': 0.2178446852335641, 'max_depth': 6, 'min_child_weight': 33.46845009110477}. Best is trial 11 with value: 0.760697029728963.\n",
            "[I 2023-06-29 17:29:02,174] Trial 18 finished with value: 0.7345726846536837 and parameters: {'num_leaves': 58, 'learning_rate': 0.4863889250453241, 'reg_lambda': 0.2595512783420294, 'reg_alpha': 9.126861605264466, 'colsample_bytree': 0.6372566573416059, 'subsample': 0.13352111690269022, 'max_depth': 7, 'min_child_weight': 44.431495489181536}. Best is trial 11 with value: 0.760697029728963.\n",
            "[I 2023-06-29 17:29:06,460] Trial 19 finished with value: 0.7491368927715696 and parameters: {'num_leaves': 38, 'learning_rate': 0.29020800773224614, 'reg_lambda': 0.014820343275422865, 'reg_alpha': 8.698231588742146, 'colsample_bytree': 0.29593937472851334, 'subsample': 0.2689963314083148, 'max_depth': 10, 'min_child_weight': 49.33104092504082}. Best is trial 11 with value: 0.760697029728963.\n"
          ]
        }
      ]
    },
    {
      "cell_type": "markdown",
      "metadata": {
        "id": "O5ORflp3IyfR"
      },
      "source": [
        "##xgb&lgbの回帰"
      ]
    },
    {
      "cell_type": "code",
      "execution_count": null,
      "metadata": {
        "id": "zPte_7J9D6fK"
      },
      "outputs": [],
      "source": [
        "import lightgbm as lgb\n",
        "import xgboost as xgb\n",
        "from lightgbm import LGBMClassifier\n",
        "from xgboost import XGBClassifier\n",
        "from sklearn.metrics import roc_auc_score\n",
        "from sklearn.model_selection import StratifiedKFold\n",
        "\n",
        "# 目的変数と説明変数に分割\n",
        "X = train_lgb.drop(\"TARGET\", axis=1).values\n",
        "y = train_lgb[\"TARGET\"].values\n",
        "X_test = test_lgb.values\n",
        "\n",
        "#lgb&xgbのパラメータ\n",
        "params_lgb = {'boosting_type': 'gbdt',\n",
        "              'objective': 'binary',\n",
        "              'metric': 'auc',\n",
        "              'random_state': 71,\n",
        "              }\n",
        "\n",
        "params_xgb = {\"booster\":\"gbtree\",\n",
        "              'objective': 'binary:logistic',\n",
        "              'eval_metric': 'auc',\n",
        "              'random_state': 71,\n",
        "              }\n",
        "\n",
        "#パラメータの確定\n",
        "params_lgb = {**params_lgb,**best_params_lgb}\n",
        "params_xgb = {**params_xgb,**best_params_xgb}\n",
        "\n",
        "# クロスバリデーションの設定\n",
        "n_splits = 8  # 分割数\n",
        "random_state = 71  # 乱数のシード値\n",
        "skf = StratifiedKFold(n_splits=n_splits, shuffle=True, random_state=random_state)\n",
        "\n",
        "# クロスバリデーションループ\n",
        "test_score_lgb = []\n",
        "test_score_xgb = []\n",
        "test_pred_lgb = []\n",
        "test_pred_xgb = []\n",
        "\n",
        "for train_index, val_index in skf.split(X,y):\n",
        "\n",
        "    # 訓練データとバリデーションデータに分割\n",
        "    X_train, X_val = X[train_index], X[val_index]\n",
        "    y_train, y_val = y[train_index], y[val_index]\n",
        "\n",
        "    # LightGBMモデルの学習\n",
        "    model_lgb = lgb.LGBMClassifier(**params_lgb,n_estimators=10000)\n",
        "    model_lgb.fit(X_train, y_train, eval_set=[(X_val, y_val)],verbose=100,early_stopping_rounds=65)\n",
        "\n",
        "    #XGBoostモデルの学習\n",
        "    model_xgb = xgb.XGBClassifier(**params_xgb,n_estimators=10000)\n",
        "    model_xgb.fit(X_train, y_train, eval_set=[(X_val, y_val)],verbose=100,early_stopping_rounds=75)\n",
        "\n",
        "    #lgbバリデーションデータでの予測確率を取得\n",
        "    lgb_train_pred = model_lgb.predict_proba(X_train)[:, 1]\n",
        "    lgb_valid_pred = model_lgb.predict_proba(X_val)[:, 1]\n",
        "    lgb_test_pred = model_lgb.predict_proba(X_test)[:, 1]\n",
        "    print(f\"Train Score: {roc_auc_score(y_train, lgb_train_pred)}\")\n",
        "    print(f\"Valid Score: {roc_auc_score(y_val, lgb_valid_pred)}\")\n",
        "    test_score_lgb.append(roc_auc_score(y_val, lgb_valid_pred))\n",
        "    test_pred_lgb.append(lgb_test_pred)\n",
        "    #xgbバリデーションデータでの予測確率を取得\n",
        "    xgb_train_pred = model_xgb.predict_proba(X_train)[:, 1]\n",
        "    xgb_valid_pred = model_xgb.predict_proba(X_val)[:, 1]\n",
        "    xgb_test_pred = model_xgb.predict_proba(X_test)[:, 1]\n",
        "    test_score_xgb.append(roc_auc_score(y_val, xgb_valid_pred))\n",
        "    test_pred_xgb.append(xgb_test_pred)\n",
        "    print(f\"Train Score: {roc_auc_score(y_train, xgb_train_pred)}\")\n",
        "    print(f\"Valid Score: {roc_auc_score(y_val, xgb_valid_pred)}\")\n",
        "\n",
        "# クロスバリデーションの結果表示\n",
        "print(\"LightGBM CV Score:\", np.mean(test_score_lgb))\n",
        "print(\"XGBoost CV Score:\", np.mean(test_score_xgb))"
      ]
    },
    {
      "cell_type": "code",
      "execution_count": null,
      "metadata": {
        "id": "-IPNn-_ZCnmQ"
      },
      "outputs": [],
      "source": [
        "from google.colab import files\n",
        "import os\n",
        "# テストデータに対する予測値の作成\n",
        "lgb = sum(test_pred_lgb)/len(test_pred_lgb)\n",
        "xgb = sum(test_pred_xgb)/len(test_pred_xgb)\n",
        "pred = 0.8*lgb+0.2*xgb\n",
        "# 予測結果を提出用のフォーマットに格納\n",
        "sample_sub['TARGET'] = pred\n",
        "# 提出用のcsvファイルを作成\n",
        "sample_sub.to_csv('submission.csv',index=False)"
      ]
    },
    {
      "cell_type": "markdown",
      "source": [
        "##旧モデル"
      ],
      "metadata": {
        "id": "ldJIdPQoKmby"
      }
    },
    {
      "cell_type": "code",
      "execution_count": null,
      "metadata": {
        "colab": {
          "base_uri": "https://localhost:8080/",
          "height": 222
        },
        "id": "_PipkeXdKlvK",
        "outputId": "503e2635-ef12-4a6d-a9f3-fa9b0dcc1956"
      },
      "outputs": [
        {
          "ename": "NameError",
          "evalue": "ignored",
          "output_type": "error",
          "traceback": [
            "\u001b[0;31m---------------------------------------------------------------------------\u001b[0m",
            "\u001b[0;31mNameError\u001b[0m                                 Traceback (most recent call last)",
            "\u001b[0;32m<ipython-input-43-a2063a279989>\u001b[0m in \u001b[0;36m<cell line: 5>\u001b[0;34m()\u001b[0m\n\u001b[1;32m      3\u001b[0m \u001b[0;34m\u001b[0m\u001b[0m\n\u001b[1;32m      4\u001b[0m \u001b[0;31m# 訓練データと評価データに分割(標準化＆対数化)\u001b[0m\u001b[0;34m\u001b[0m\u001b[0;34m\u001b[0m\u001b[0m\n\u001b[0;32m----> 5\u001b[0;31m \u001b[0mX_train_2\u001b[0m\u001b[0;34m,\u001b[0m \u001b[0mX_valid_2\u001b[0m\u001b[0;34m,\u001b[0m \u001b[0my_train_2\u001b[0m\u001b[0;34m,\u001b[0m \u001b[0my_valid_2\u001b[0m \u001b[0;34m=\u001b[0m \u001b[0mtrain_test_split\u001b[0m\u001b[0;34m(\u001b[0m\u001b[0mX_stdlog\u001b[0m\u001b[0;34m,\u001b[0m \u001b[0my_stdlog\u001b[0m\u001b[0;34m,\u001b[0m \u001b[0mtest_size\u001b[0m\u001b[0;34m=\u001b[0m\u001b[0;36m0.3\u001b[0m\u001b[0;34m,\u001b[0m \u001b[0mstratify\u001b[0m\u001b[0;34m=\u001b[0m\u001b[0my_stdlog\u001b[0m\u001b[0;34m,\u001b[0m \u001b[0mrandom_state\u001b[0m\u001b[0;34m=\u001b[0m\u001b[0;36m0\u001b[0m\u001b[0;34m)\u001b[0m\u001b[0;34m\u001b[0m\u001b[0;34m\u001b[0m\u001b[0m\n\u001b[0m",
            "\u001b[0;31mNameError\u001b[0m: name 'X_stdlog' is not defined"
          ]
        }
      ],
      "source": [
        "# 訓練データと評価データに分割\n",
        "X_train, X_valid, y_train, y_valid = train_test_split(X, y, test_size=0.3, stratify=y, random_state=0)\n",
        "\n",
        "# 訓練データと評価データに分割(標準化＆対数化)\n",
        "X_train_2, X_valid_2, y_train_2, y_valid_2 = train_test_split(X_stdlog, y_stdlog, test_size=0.3, stratify=y_stdlog, random_state=0)"
      ]
    },
    {
      "cell_type": "code",
      "execution_count": null,
      "metadata": {
        "colab": {
          "base_uri": "https://localhost:8080/"
        },
        "id": "bpzK_zyWCnmQ",
        "outputId": "05f6e828-1d1f-4011-fddc-891d61f7b549"
      },
      "outputs": [
        {
          "name": "stdout",
          "output_type": "stream",
          "text": [
            "Train Score: 0.7251741658735248\n",
            "Valid Score: 0.7228881502384199\n"
          ]
        }
      ],
      "source": [
        "# LogisticRegression\n",
        "from sklearn.linear_model import LogisticRegression\n",
        "\n",
        "lr = LogisticRegression(random_state=0)\n",
        "lr.fit(X_train_2, y_train_2)\n",
        "\n",
        "lr_train_pred = lr.predict_proba(X_train_2)[:, 1]\n",
        "lr_valid_pred = lr.predict_proba(X_valid_2)[:, 1]\n",
        "lr_test_pred = lr.predict_proba(X_test_stdlog)[:, 1]\n",
        "print(f\"Train Score: {roc_auc_score(y_train_2, lr_train_pred)}\")\n",
        "print(f\"Valid Score: {roc_auc_score(y_valid_2, lr_valid_pred)}\")"
      ]
    },
    {
      "cell_type": "code",
      "execution_count": null,
      "metadata": {
        "colab": {
          "base_uri": "https://localhost:8080/",
          "height": 506
        },
        "id": "qvRvrmC2CnmQ",
        "outputId": "afb0fd1c-ff84-481b-85b9-d500f0e7eee7"
      },
      "outputs": [
        {
          "ename": "ValueError",
          "evalue": "ignored",
          "output_type": "error",
          "traceback": [
            "\u001b[0;31m---------------------------------------------------------------------------\u001b[0m",
            "\u001b[0;31mValueError\u001b[0m                                Traceback (most recent call last)",
            "\u001b[0;32m<ipython-input-44-496fdf36a6bf>\u001b[0m in \u001b[0;36m<cell line: 5>\u001b[0;34m()\u001b[0m\n\u001b[1;32m      3\u001b[0m \u001b[0;34m\u001b[0m\u001b[0m\n\u001b[1;32m      4\u001b[0m \u001b[0mmlp\u001b[0m \u001b[0;34m=\u001b[0m \u001b[0mMLPClassifier\u001b[0m\u001b[0;34m(\u001b[0m\u001b[0mrandom_state\u001b[0m\u001b[0;34m=\u001b[0m\u001b[0;36m0\u001b[0m\u001b[0;34m)\u001b[0m\u001b[0;34m\u001b[0m\u001b[0;34m\u001b[0m\u001b[0m\n\u001b[0;32m----> 5\u001b[0;31m \u001b[0mmlp\u001b[0m\u001b[0;34m.\u001b[0m\u001b[0mfit\u001b[0m\u001b[0;34m(\u001b[0m\u001b[0mX_train\u001b[0m\u001b[0;34m,\u001b[0m \u001b[0my_train\u001b[0m\u001b[0;34m)\u001b[0m\u001b[0;34m\u001b[0m\u001b[0;34m\u001b[0m\u001b[0m\n\u001b[0m\u001b[1;32m      6\u001b[0m \u001b[0;34m\u001b[0m\u001b[0m\n\u001b[1;32m      7\u001b[0m \u001b[0mmlp_train_pred\u001b[0m \u001b[0;34m=\u001b[0m \u001b[0mmlp\u001b[0m\u001b[0;34m.\u001b[0m\u001b[0mpredict_proba\u001b[0m\u001b[0;34m(\u001b[0m\u001b[0mX_train\u001b[0m\u001b[0;34m)\u001b[0m\u001b[0;34m[\u001b[0m\u001b[0;34m:\u001b[0m\u001b[0;34m,\u001b[0m \u001b[0;36m1\u001b[0m\u001b[0;34m]\u001b[0m\u001b[0;34m\u001b[0m\u001b[0;34m\u001b[0m\u001b[0m\n",
            "\u001b[0;32m/usr/local/lib/python3.10/dist-packages/sklearn/neural_network/_multilayer_perceptron.py\u001b[0m in \u001b[0;36mfit\u001b[0;34m(self, X, y)\u001b[0m\n\u001b[1;32m    747\u001b[0m         \u001b[0mself\u001b[0m\u001b[0;34m.\u001b[0m\u001b[0m_validate_params\u001b[0m\u001b[0;34m(\u001b[0m\u001b[0;34m)\u001b[0m\u001b[0;34m\u001b[0m\u001b[0;34m\u001b[0m\u001b[0m\n\u001b[1;32m    748\u001b[0m \u001b[0;34m\u001b[0m\u001b[0m\n\u001b[0;32m--> 749\u001b[0;31m         \u001b[0;32mreturn\u001b[0m \u001b[0mself\u001b[0m\u001b[0;34m.\u001b[0m\u001b[0m_fit\u001b[0m\u001b[0;34m(\u001b[0m\u001b[0mX\u001b[0m\u001b[0;34m,\u001b[0m \u001b[0my\u001b[0m\u001b[0;34m,\u001b[0m \u001b[0mincremental\u001b[0m\u001b[0;34m=\u001b[0m\u001b[0;32mFalse\u001b[0m\u001b[0;34m)\u001b[0m\u001b[0;34m\u001b[0m\u001b[0;34m\u001b[0m\u001b[0m\n\u001b[0m\u001b[1;32m    750\u001b[0m \u001b[0;34m\u001b[0m\u001b[0m\n\u001b[1;32m    751\u001b[0m     \u001b[0;32mdef\u001b[0m \u001b[0m_check_solver\u001b[0m\u001b[0;34m(\u001b[0m\u001b[0mself\u001b[0m\u001b[0;34m)\u001b[0m\u001b[0;34m:\u001b[0m\u001b[0;34m\u001b[0m\u001b[0;34m\u001b[0m\u001b[0m\n",
            "\u001b[0;32m/usr/local/lib/python3.10/dist-packages/sklearn/neural_network/_multilayer_perceptron.py\u001b[0m in \u001b[0;36m_fit\u001b[0;34m(self, X, y, incremental)\u001b[0m\n\u001b[1;32m    435\u001b[0m         )\n\u001b[1;32m    436\u001b[0m \u001b[0;34m\u001b[0m\u001b[0m\n\u001b[0;32m--> 437\u001b[0;31m         \u001b[0mX\u001b[0m\u001b[0;34m,\u001b[0m \u001b[0my\u001b[0m \u001b[0;34m=\u001b[0m \u001b[0mself\u001b[0m\u001b[0;34m.\u001b[0m\u001b[0m_validate_input\u001b[0m\u001b[0;34m(\u001b[0m\u001b[0mX\u001b[0m\u001b[0;34m,\u001b[0m \u001b[0my\u001b[0m\u001b[0;34m,\u001b[0m \u001b[0mincremental\u001b[0m\u001b[0;34m,\u001b[0m \u001b[0mreset\u001b[0m\u001b[0;34m=\u001b[0m\u001b[0mfirst_pass\u001b[0m\u001b[0;34m)\u001b[0m\u001b[0;34m\u001b[0m\u001b[0;34m\u001b[0m\u001b[0m\n\u001b[0m\u001b[1;32m    438\u001b[0m \u001b[0;34m\u001b[0m\u001b[0m\n\u001b[1;32m    439\u001b[0m         \u001b[0mn_samples\u001b[0m\u001b[0;34m,\u001b[0m \u001b[0mn_features\u001b[0m \u001b[0;34m=\u001b[0m \u001b[0mX\u001b[0m\u001b[0;34m.\u001b[0m\u001b[0mshape\u001b[0m\u001b[0;34m\u001b[0m\u001b[0;34m\u001b[0m\u001b[0m\n",
            "\u001b[0;32m/usr/local/lib/python3.10/dist-packages/sklearn/neural_network/_multilayer_perceptron.py\u001b[0m in \u001b[0;36m_validate_input\u001b[0;34m(self, X, y, incremental, reset)\u001b[0m\n\u001b[1;32m   1087\u001b[0m \u001b[0;34m\u001b[0m\u001b[0m\n\u001b[1;32m   1088\u001b[0m     \u001b[0;32mdef\u001b[0m \u001b[0m_validate_input\u001b[0m\u001b[0;34m(\u001b[0m\u001b[0mself\u001b[0m\u001b[0;34m,\u001b[0m \u001b[0mX\u001b[0m\u001b[0;34m,\u001b[0m \u001b[0my\u001b[0m\u001b[0;34m,\u001b[0m \u001b[0mincremental\u001b[0m\u001b[0;34m,\u001b[0m \u001b[0mreset\u001b[0m\u001b[0;34m)\u001b[0m\u001b[0;34m:\u001b[0m\u001b[0;34m\u001b[0m\u001b[0;34m\u001b[0m\u001b[0m\n\u001b[0;32m-> 1089\u001b[0;31m         X, y = self._validate_data(\n\u001b[0m\u001b[1;32m   1090\u001b[0m             \u001b[0mX\u001b[0m\u001b[0;34m,\u001b[0m\u001b[0;34m\u001b[0m\u001b[0;34m\u001b[0m\u001b[0m\n\u001b[1;32m   1091\u001b[0m             \u001b[0my\u001b[0m\u001b[0;34m,\u001b[0m\u001b[0;34m\u001b[0m\u001b[0;34m\u001b[0m\u001b[0m\n",
            "\u001b[0;32m/usr/local/lib/python3.10/dist-packages/sklearn/base.py\u001b[0m in \u001b[0;36m_validate_data\u001b[0;34m(self, X, y, reset, validate_separately, **check_params)\u001b[0m\n\u001b[1;32m    582\u001b[0m                 \u001b[0my\u001b[0m \u001b[0;34m=\u001b[0m \u001b[0mcheck_array\u001b[0m\u001b[0;34m(\u001b[0m\u001b[0my\u001b[0m\u001b[0;34m,\u001b[0m \u001b[0minput_name\u001b[0m\u001b[0;34m=\u001b[0m\u001b[0;34m\"y\"\u001b[0m\u001b[0;34m,\u001b[0m \u001b[0;34m**\u001b[0m\u001b[0mcheck_y_params\u001b[0m\u001b[0;34m)\u001b[0m\u001b[0;34m\u001b[0m\u001b[0;34m\u001b[0m\u001b[0m\n\u001b[1;32m    583\u001b[0m             \u001b[0;32melse\u001b[0m\u001b[0;34m:\u001b[0m\u001b[0;34m\u001b[0m\u001b[0;34m\u001b[0m\u001b[0m\n\u001b[0;32m--> 584\u001b[0;31m                 \u001b[0mX\u001b[0m\u001b[0;34m,\u001b[0m \u001b[0my\u001b[0m \u001b[0;34m=\u001b[0m \u001b[0mcheck_X_y\u001b[0m\u001b[0;34m(\u001b[0m\u001b[0mX\u001b[0m\u001b[0;34m,\u001b[0m \u001b[0my\u001b[0m\u001b[0;34m,\u001b[0m \u001b[0;34m**\u001b[0m\u001b[0mcheck_params\u001b[0m\u001b[0;34m)\u001b[0m\u001b[0;34m\u001b[0m\u001b[0;34m\u001b[0m\u001b[0m\n\u001b[0m\u001b[1;32m    585\u001b[0m             \u001b[0mout\u001b[0m \u001b[0;34m=\u001b[0m \u001b[0mX\u001b[0m\u001b[0;34m,\u001b[0m \u001b[0my\u001b[0m\u001b[0;34m\u001b[0m\u001b[0;34m\u001b[0m\u001b[0m\n\u001b[1;32m    586\u001b[0m \u001b[0;34m\u001b[0m\u001b[0m\n",
            "\u001b[0;32m/usr/local/lib/python3.10/dist-packages/sklearn/utils/validation.py\u001b[0m in \u001b[0;36mcheck_X_y\u001b[0;34m(X, y, accept_sparse, accept_large_sparse, dtype, order, copy, force_all_finite, ensure_2d, allow_nd, multi_output, ensure_min_samples, ensure_min_features, y_numeric, estimator)\u001b[0m\n\u001b[1;32m   1104\u001b[0m         )\n\u001b[1;32m   1105\u001b[0m \u001b[0;34m\u001b[0m\u001b[0m\n\u001b[0;32m-> 1106\u001b[0;31m     X = check_array(\n\u001b[0m\u001b[1;32m   1107\u001b[0m         \u001b[0mX\u001b[0m\u001b[0;34m,\u001b[0m\u001b[0;34m\u001b[0m\u001b[0;34m\u001b[0m\u001b[0m\n\u001b[1;32m   1108\u001b[0m         \u001b[0maccept_sparse\u001b[0m\u001b[0;34m=\u001b[0m\u001b[0maccept_sparse\u001b[0m\u001b[0;34m,\u001b[0m\u001b[0;34m\u001b[0m\u001b[0;34m\u001b[0m\u001b[0m\n",
            "\u001b[0;32m/usr/local/lib/python3.10/dist-packages/sklearn/utils/validation.py\u001b[0m in \u001b[0;36mcheck_array\u001b[0;34m(array, accept_sparse, accept_large_sparse, dtype, order, copy, force_all_finite, ensure_2d, allow_nd, ensure_min_samples, ensure_min_features, estimator, input_name)\u001b[0m\n\u001b[1;32m    919\u001b[0m \u001b[0;34m\u001b[0m\u001b[0m\n\u001b[1;32m    920\u001b[0m         \u001b[0;32mif\u001b[0m \u001b[0mforce_all_finite\u001b[0m\u001b[0;34m:\u001b[0m\u001b[0;34m\u001b[0m\u001b[0;34m\u001b[0m\u001b[0m\n\u001b[0;32m--> 921\u001b[0;31m             _assert_all_finite(\n\u001b[0m\u001b[1;32m    922\u001b[0m                 \u001b[0marray\u001b[0m\u001b[0;34m,\u001b[0m\u001b[0;34m\u001b[0m\u001b[0;34m\u001b[0m\u001b[0m\n\u001b[1;32m    923\u001b[0m                 \u001b[0minput_name\u001b[0m\u001b[0;34m=\u001b[0m\u001b[0minput_name\u001b[0m\u001b[0;34m,\u001b[0m\u001b[0;34m\u001b[0m\u001b[0;34m\u001b[0m\u001b[0m\n",
            "\u001b[0;32m/usr/local/lib/python3.10/dist-packages/sklearn/utils/validation.py\u001b[0m in \u001b[0;36m_assert_all_finite\u001b[0;34m(X, allow_nan, msg_dtype, estimator_name, input_name)\u001b[0m\n\u001b[1;32m    159\u001b[0m                 \u001b[0;34m\"#estimators-that-handle-nan-values\"\u001b[0m\u001b[0;34m\u001b[0m\u001b[0;34m\u001b[0m\u001b[0m\n\u001b[1;32m    160\u001b[0m             )\n\u001b[0;32m--> 161\u001b[0;31m         \u001b[0;32mraise\u001b[0m \u001b[0mValueError\u001b[0m\u001b[0;34m(\u001b[0m\u001b[0mmsg_err\u001b[0m\u001b[0;34m)\u001b[0m\u001b[0;34m\u001b[0m\u001b[0;34m\u001b[0m\u001b[0m\n\u001b[0m\u001b[1;32m    162\u001b[0m \u001b[0;34m\u001b[0m\u001b[0m\n\u001b[1;32m    163\u001b[0m \u001b[0;34m\u001b[0m\u001b[0m\n",
            "\u001b[0;31mValueError\u001b[0m: Input X contains NaN.\nMLPClassifier does not accept missing values encoded as NaN natively. For supervised learning, you might want to consider sklearn.ensemble.HistGradientBoostingClassifier and Regressor which accept missing values encoded as NaNs natively. Alternatively, it is possible to preprocess the data, for instance by using an imputer transformer in a pipeline or drop samples with missing values. See https://scikit-learn.org/stable/modules/impute.html You can find a list of all estimators that handle NaN values at the following page: https://scikit-learn.org/stable/modules/impute.html#estimators-that-handle-nan-values"
          ]
        }
      ],
      "source": [
        "# MLPClassifier\n",
        "from sklearn.neural_network import MLPClassifier\n",
        "\n",
        "mlp = MLPClassifier(random_state=0)\n",
        "mlp.fit(X_train, y_train)\n",
        "\n",
        "mlp_train_pred = mlp.predict_proba(X_train)[:, 1]\n",
        "mlp_valid_pred = mlp.predict_proba(X_valid)[:, 1]\n",
        "mlp_test_pred = mlp.predict_proba(X_test)[:, 1]\n",
        "print(f\"Train Score: {roc_auc_score(y_train, mlp_train_pred)}\")\n",
        "print(f\"Valid Score: {roc_auc_score(y_valid, mlp_valid_pred)}\")"
      ]
    },
    {
      "cell_type": "code",
      "source": [
        "#類似度検証\n",
        "import numpy as np\n",
        "\n",
        "def cosine_similarity(vector1, vector2):\n",
        "    dot_product = np.dot(vector1, vector2)\n",
        "    norm1 = np.linalg.norm(vector1)\n",
        "    norm2 = np.linalg.norm(vector2)\n",
        "    similarity = dot_product / (norm1 * norm2)\n",
        "    return similarity\n",
        "\n",
        "vector1 = np.array(pred)\n",
        "vector2 = np.array(pred_ref)\n",
        "\n",
        "# コサイン類似度を計算する\n",
        "similarity = cosine_similarity(vector1, vector2)\n",
        "\n",
        "print(\"コサイン類似度:\", similarity)"
      ],
      "metadata": {
        "colab": {
          "base_uri": "https://localhost:8080/",
          "height": 1000
        },
        "id": "T1pRjs6yLfgh",
        "outputId": "f712ea9e-1606-472b-abbe-d2b7677d9fc0"
      },
      "execution_count": null,
      "outputs": [
        {
          "ename": "NameError",
          "evalue": "ignored",
          "output_type": "error",
          "traceback": [
            "\u001b[0;31m---------------------------------------------------------------------------\u001b[0m",
            "\u001b[0;31mNameError\u001b[0m                                 Traceback (most recent call last)",
            "\u001b[0;32m<ipython-input-74-db9c5b6168b4>\u001b[0m in \u001b[0;36m<cell line: 12>\u001b[0;34m()\u001b[0m\n\u001b[1;32m     10\u001b[0m \u001b[0;34m\u001b[0m\u001b[0m\n\u001b[1;32m     11\u001b[0m \u001b[0mvector1\u001b[0m \u001b[0;34m=\u001b[0m \u001b[0mnp\u001b[0m\u001b[0;34m.\u001b[0m\u001b[0marray\u001b[0m\u001b[0;34m(\u001b[0m\u001b[0mpred\u001b[0m\u001b[0;34m)\u001b[0m\u001b[0;34m\u001b[0m\u001b[0;34m\u001b[0m\u001b[0m\n\u001b[0;32m---> 12\u001b[0;31m \u001b[0mvector2\u001b[0m \u001b[0;34m=\u001b[0m \u001b[0mnp\u001b[0m\u001b[0;34m.\u001b[0m\u001b[0marray\u001b[0m\u001b[0;34m(\u001b[0m\u001b[0mpred_ref\u001b[0m\u001b[0;34m)\u001b[0m\u001b[0;34m\u001b[0m\u001b[0;34m\u001b[0m\u001b[0m\n\u001b[0m\u001b[1;32m     13\u001b[0m \u001b[0;34m\u001b[0m\u001b[0m\n\u001b[1;32m     14\u001b[0m \u001b[0;31m# コサイン類似度を計算する\u001b[0m\u001b[0;34m\u001b[0m\u001b[0;34m\u001b[0m\u001b[0m\n",
            "\u001b[0;31mNameError\u001b[0m: name 'pred_ref' is not defined"
          ]
        }
      ]
    }
  ],
  "metadata": {
    "colab": {
      "collapsed_sections": [
        "a5KcDAE8CnmB",
        "BXQVjhiTbdFK",
        "3NuP1zcmCnmF",
        "Zlg14zQ_oNF2",
        "iQRUuONnKRlD",
        "deAh_Ne7KqLj",
        "J_u2MSX7N5pm",
        "aT8iKFTtQiwb",
        "-ivpnPL_HFvX",
        "34q95YdTHibe",
        "jAFi1rD7H_zU",
        "cuatgEDXWD5x",
        "tv2Evdpz7Zap",
        "uUXyHM1tBgoX",
        "mdxpI3fDe4Uf",
        "FoKdK60PCnmP",
        "ldJIdPQoKmby"
      ],
      "provenance": [],
      "gpuType": "T4",
      "include_colab_link": true
    },
    "interpreter": {
      "hash": "3fc12855e5119aa7119eb8b28b2c79e4453dd0444ad04c81a8c18197ce5b843e"
    },
    "kernelspec": {
      "display_name": "Python 3",
      "name": "python3"
    },
    "language_info": {
      "codemirror_mode": {
        "name": "ipython",
        "version": 3
      },
      "file_extension": ".py",
      "mimetype": "text/x-python",
      "name": "python",
      "nbconvert_exporter": "python",
      "pygments_lexer": "ipython3",
      "version": "3.9.7"
    },
    "accelerator": "GPU"
  },
  "nbformat": 4,
  "nbformat_minor": 0
}